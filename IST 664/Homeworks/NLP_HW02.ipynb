{
 "cells": [
  {
   "cell_type": "markdown",
   "metadata": {},
   "source": [
    "# 664 NLP Assignment 2\n",
    "## Wanyue Xiao\n",
    "## Due: March 11, 2020"
   ]
  },
  {
   "cell_type": "markdown",
   "metadata": {},
   "source": [
    "The purpose of this assignment is to extract question sentences and imperative sentences from reviewtexts. Specifically, the question sentences should contain question mask '?' and adjective phrases. Similarly, the imperative sentences should contain exclamation mark '!', adjective phrases, and should start with verbs."
   ]
  },
  {
   "cell_type": "markdown",
   "metadata": {},
   "source": [
    "Before extracting the required sentences, one must import the NLTK package and other necessary functions. Then we should extract the review text from review_Content document and store that to review_text."
   ]
  },
  {
   "cell_type": "code",
   "execution_count": 45,
   "metadata": {},
   "outputs": [],
   "source": [
    "import nltk\n",
    "from nltk import *\n",
    "from nltk.corpus import treebank\n",
    "import re\n",
    "from IPython import display\n",
    "import math\n",
    "from pprint import pprint\n",
    "import pandas as pd\n",
    "import numpy as np\n",
    "import matplotlib.pyplot as plt\n",
    "import seaborn as sns\n",
    "sns.set(style='darkgrid', context='talk', palette='Dark2')"
   ]
  },
  {
   "cell_type": "code",
   "execution_count": 46,
   "metadata": {},
   "outputs": [],
   "source": [
    "f = open('review_Content.txt')\n",
    "review_text = f.read()"
   ]
  },
  {
   "cell_type": "markdown",
   "metadata": {},
   "source": [
    "By using the len function, we find that the review_text contains 88129772 words."
   ]
  },
  {
   "cell_type": "code",
   "execution_count": 47,
   "metadata": {
    "scrolled": true
   },
   "outputs": [
    {
     "data": {
      "text/plain": [
       "88129772"
      ]
     },
     "execution_count": 47,
     "metadata": {},
     "output_type": "execute_result"
    }
   ],
   "source": [
    "len(review_text)"
   ]
  },
  {
   "cell_type": "markdown",
   "metadata": {},
   "source": [
    "Now, since we want to extract sentences from the review text, we need to parse those texts to sentences by using RegExr. Before that, we should replace '\\n' with blank space and then use RegExr to parse sentence."
   ]
  },
  {
   "cell_type": "code",
   "execution_count": 48,
   "metadata": {
    "scrolled": false
   },
   "outputs": [],
   "source": [
    "review_text = review_text.replace('\\n',' ')\n",
    "sentence=re.compile(\"[A-Z].*?[\\.\\!\\?]+\", re.MULTILINE | re.DOTALL )\n",
    "parsed_sentence = sentence.findall(review_text)"
   ]
  },
  {
   "cell_type": "markdown",
   "metadata": {},
   "source": [
    "After parsing the review text, we have 1186416 sentences."
   ]
  },
  {
   "cell_type": "code",
   "execution_count": 49,
   "metadata": {
    "scrolled": true
   },
   "outputs": [
    {
     "data": {
      "text/plain": [
       "1202086"
      ]
     },
     "execution_count": 49,
     "metadata": {},
     "output_type": "execute_result"
    }
   ],
   "source": [
    "len(parsed_sentence)"
   ]
  },
  {
   "cell_type": "markdown",
   "metadata": {},
   "source": [
    "<br>"
   ]
  },
  {
   "cell_type": "markdown",
   "metadata": {},
   "source": [
    "## Sentence Extraction Part"
   ]
  },
  {
   "cell_type": "markdown",
   "metadata": {},
   "source": [
    "To get a collection of imperative sentences that satiat requirements mentioned above, we need to splite those pared sentences into three which ends with exclamation mark, question mark, and stop mark respetively."
   ]
  },
  {
   "cell_type": "markdown",
   "metadata": {},
   "source": [
    "### Exclamation Sentence\n",
    "For sentence that stops with exclamation mark, there are 111875 of them."
   ]
  },
  {
   "cell_type": "code",
   "execution_count": 50,
   "metadata": {},
   "outputs": [
    {
     "data": {
      "text/plain": [
       "111875"
      ]
     },
     "execution_count": 50,
     "metadata": {},
     "output_type": "execute_result"
    }
   ],
   "source": [
    "exclamation_sentence = [each for each in parsed_sentence if each[-1] == '!']\n",
    "len(exclamation_sentence)"
   ]
  },
  {
   "cell_type": "markdown",
   "metadata": {},
   "source": [
    "However, after carefully review those sentences, we might find that some of them also contain question mark(s), making it difficult to identify those sentences. Then we need to find those sentences and store them into the special_combine1 object. Next, we might need to eliminate those sentences from the orginal exclamation_sentence. Finally, we can find that the number of exclamation_sentence has reduced to 111566."
   ]
  },
  {
   "cell_type": "code",
   "execution_count": 51,
   "metadata": {
    "scrolled": true
   },
   "outputs": [
    {
     "data": {
      "text/plain": [
       "111566"
      ]
     },
     "execution_count": 51,
     "metadata": {},
     "output_type": "execute_result"
    }
   ],
   "source": [
    "special_combine1 = [each for each in exclamation_sentence if '?' in each]\n",
    "exclamation_sentence = [each for each in exclamation_sentence if each not in special_combine1]\n",
    "len(exclamation_sentence)"
   ]
  },
  {
   "cell_type": "markdown",
   "metadata": {},
   "source": [
    "### Question Sentence\n",
    "Similarly, executing the same procedures in the processes of collecting question sentences and normal sentences which end with stop mark."
   ]
  },
  {
   "cell_type": "code",
   "execution_count": 52,
   "metadata": {},
   "outputs": [
    {
     "data": {
      "text/plain": [
       "8376"
      ]
     },
     "execution_count": 52,
     "metadata": {},
     "output_type": "execute_result"
    }
   ],
   "source": [
    "# Find sentence that ends with '?'\n",
    "question_sentence = [each for each in parsed_sentence if '?' in each[-1]]\n",
    "len(question_sentence)"
   ]
  },
  {
   "cell_type": "markdown",
   "metadata": {},
   "source": [
    "Find and store sentence that contains both '!' and '?' to special_combine2. Eliminate those sentences from the original question_sentence."
   ]
  },
  {
   "cell_type": "code",
   "execution_count": 53,
   "metadata": {},
   "outputs": [
    {
     "data": {
      "text/plain": [
       "8252"
      ]
     },
     "execution_count": 53,
     "metadata": {},
     "output_type": "execute_result"
    }
   ],
   "source": [
    "special_combine2 = [each for each in question_sentence if '!' in each]\n",
    "question_sentence = [each for each in question_sentence if each not in special_combine2]\n",
    "len(question_sentence)"
   ]
  },
  {
   "cell_type": "markdown",
   "metadata": {},
   "source": [
    "Combining the two special_combine list to one. We find that the number of sentence that contains both '?' and '!' is 433. "
   ]
  },
  {
   "cell_type": "code",
   "execution_count": 54,
   "metadata": {},
   "outputs": [
    {
     "data": {
      "text/plain": [
       "433"
      ]
     },
     "execution_count": 54,
     "metadata": {},
     "output_type": "execute_result"
    }
   ],
   "source": [
    "# Gather those special sentences which contain both '?' and '!'\n",
    "special_combine = special_combine1 + special_combine2\n",
    "len(special_combine)"
   ]
  },
  {
   "cell_type": "markdown",
   "metadata": {},
   "source": [
    "Checking those special sentences, we find that the emotion of those sentence is similar with that of exclamation sentence. Then we decide to combine the special_combine with exclamation_sentence."
   ]
  },
  {
   "cell_type": "code",
   "execution_count": 55,
   "metadata": {},
   "outputs": [
    {
     "data": {
      "text/plain": [
       "['Have they lost their minds??!!',\n",
       " \"What's not to love, except the price?!\",\n",
       " 'Why do I have to try every pair on in my size to find the one that fits?!',\n",
       " \"These can't be real Levi's?!\",\n",
       " 'I\\'ve been crying ever since my breast augmentation (I didn\\'t even go that big just from a B to a C cup) but since that 2 months ago I\\'m like \"HOW AM I GOING TO RUN WITH THESE ON MY CHEST???!!!',\n",
       " 'Hmmmm, seems like the newer version of the same jeans I have are slightly different?!',\n",
       " \"And who doesn't love all those pockets?!\",\n",
       " 'Managed to snag on my laptop bag (!?!',\n",
       " 'The problem with these socks is that one of the pairs is tight, the other one is looser and comfortable, and the third one has a tight upper rim?!',\n",
       " 'It looks great and similar to the Navitimer but like ten times less?!']"
      ]
     },
     "execution_count": 55,
     "metadata": {},
     "output_type": "execute_result"
    }
   ],
   "source": [
    "special_combine[:10]"
   ]
  },
  {
   "cell_type": "code",
   "execution_count": 56,
   "metadata": {},
   "outputs": [
    {
     "data": {
      "text/plain": [
       "111999"
      ]
     },
     "execution_count": 56,
     "metadata": {},
     "output_type": "execute_result"
    }
   ],
   "source": [
    "exclamation_sentence = exclamation_sentence + special_combine\n",
    "len(exclamation_sentence)"
   ]
  },
  {
   "cell_type": "markdown",
   "metadata": {},
   "source": [
    "### Declarative Sentence\n",
    "Finally, we can get a collection of sentence that ends with stop sign ('.'). For those sentence, we also find that some of them contain '!' or '?' inside. Then we can extract and save those sentences to special_combine3 (that contains '!') and to special_combine4 (that contain '?') respectively. Likewise, we should also eliminate those sentences from the original stop_sentence."
   ]
  },
  {
   "cell_type": "code",
   "execution_count": 57,
   "metadata": {},
   "outputs": [
    {
     "data": {
      "text/plain": [
       "1081835"
      ]
     },
     "execution_count": 57,
     "metadata": {},
     "output_type": "execute_result"
    }
   ],
   "source": [
    "declarative_sentence = [each for each in parsed_sentence if '.' in each[-1]]\n",
    "len(declarative_sentence)"
   ]
  },
  {
   "cell_type": "code",
   "execution_count": 58,
   "metadata": {},
   "outputs": [
    {
     "data": {
      "text/plain": [
       "1081375"
      ]
     },
     "execution_count": 58,
     "metadata": {},
     "output_type": "execute_result"
    }
   ],
   "source": [
    "special_combine3 = [each for each in declarative_sentence if '!' in each]\n",
    "declarative_sentence = [each for each in declarative_sentence if each not in special_combine3]\n",
    "special_combine4 = [each for each in declarative_sentence if '?' in each]\n",
    "declarative_sentence = [each for each in declarative_sentence if each not in special_combine4]\n",
    "len(declarative_sentence)"
   ]
  },
  {
   "cell_type": "markdown",
   "metadata": {},
   "source": [
    "Additionally, if we go through the special_combine3 and special_combine4 separately, we find that the emotion of those sentence is similar with that of exclamation_sentence while that of special_combine4 is similar with that of question sentence(?)."
   ]
  },
  {
   "cell_type": "code",
   "execution_count": 59,
   "metadata": {
    "scrolled": true
   },
   "outputs": [
    {
     "data": {
      "text/plain": [
       "['I am very long waisted and rather curvy and these are the ONLY briefs that I found that DO NOT RIDE UP!...',\n",
       " 'I wish they had more colors!!!!!!.',\n",
       " 'GREAT BUY!....',\n",
       " \"Until it arrived two days ago, I still didn't know if the reviews were spot on, they were!.\",\n",
       " 'When I opened the box, WOW!..',\n",
       " 'I put it?!....',\n",
       " 'NO!.',\n",
       " 'OVER A MONTH NOW AND NO PROBLEMS AT ALL!!!!!!!!!...',\n",
       " \"BY THE WAY, I JUST PURCHASED MY FATHER IN-LAW ONE ON FATHER'S DAY AND HE LOVES IT!...\",\n",
       " 'WHAT A BEAUTIFUL WATCH!!!.']"
      ]
     },
     "execution_count": 59,
     "metadata": {},
     "output_type": "execute_result"
    }
   ],
   "source": [
    "special_combine3[:10]"
   ]
  },
  {
   "cell_type": "code",
   "execution_count": 60,
   "metadata": {},
   "outputs": [
    {
     "data": {
      "text/plain": [
       "['FOR $89 WHY NOT GIVE IT A TRY?...',\n",
       " 'Unfortunately  i bougth two and i received just oneWhere is the other?.',\n",
       " 'Unfortunately this bra fit way too tightly, more like a 32?.',\n",
       " 'I thought: why not shrink-to-fit jeans?...',\n",
       " 'They look at them and always ask &#34;Where did you get them?.',\n",
       " \"What can I say about this watch that haven't been said yet?...\",\n",
       " 'Maybe the elastic strip was too tight?...',\n",
       " 'One dislike - there a small horizontal stich on toe that looks like a defect??...',\n",
       " 'HOW DO YOU NOT SCREAM WHEN YOU WALK IN THEM?.',\n",
       " 'Why?...']"
      ]
     },
     "execution_count": 60,
     "metadata": {},
     "output_type": "execute_result"
    }
   ],
   "source": [
    "special_combine4[:10]"
   ]
  },
  {
   "cell_type": "code",
   "execution_count": 61,
   "metadata": {},
   "outputs": [],
   "source": [
    "exclamation_sentence = exclamation_sentence + special_combine3\n",
    "question_sentence = question_sentence + special_combine4"
   ]
  },
  {
   "cell_type": "markdown",
   "metadata": {},
   "source": [
    "<br>"
   ]
  },
  {
   "cell_type": "markdown",
   "metadata": {},
   "source": [
    "## POS Tagging and CFG Analysis"
   ]
  },
  {
   "cell_type": "markdown",
   "metadata": {},
   "source": [
    "Gathering those sentences is not the end, we need to go further to find sentence that has 'adjective phrases' which might require use to use the POS tagging techniques.\n",
    "<br> <br>\n",
    "**Question Sentence POS Tagging**\n",
    "<br>\n",
    "* First of all, we might focus on the question sentence processing. \n",
    "* After tokenizing and tagging the question sentences, we can use 'JJ', 'JJR', and 'JJS' to find if those sentences contain these three tags. \n",
    "* If so, adding the tagged sentence to question_sentence_JJ object."
   ]
  },
  {
   "cell_type": "code",
   "execution_count": 62,
   "metadata": {},
   "outputs": [],
   "source": [
    "question_Token = [nltk.word_tokenize(sent) for sent in question_sentence]\n",
    "question_POS = [nltk.pos_tag(each) for each in question_Token]\n",
    "question_sentence_JJ = []\n",
    "for each in question_POS:\n",
    "    tag_fd = nltk.FreqDist(tag for (word, tag) in each)\n",
    "    if 'JJ' in tag_fd.keys() or 'JJR' in tag_fd.keys() or 'JJS' in tag_fd.keys():\n",
    "        question_sentence_JJ.append(each)"
   ]
  },
  {
   "cell_type": "markdown",
   "metadata": {},
   "source": [
    "Now, we can claim that the number of question sentence that contain 'adjective phrases' is 4174."
   ]
  },
  {
   "cell_type": "code",
   "execution_count": 63,
   "metadata": {},
   "outputs": [
    {
     "data": {
      "text/plain": [
       "4174"
      ]
     },
     "execution_count": 63,
     "metadata": {},
     "output_type": "execute_result"
    }
   ],
   "source": [
    "len(question_sentence_JJ)"
   ]
  },
  {
   "cell_type": "markdown",
   "metadata": {},
   "source": [
    "Given that we might need the content of these tagged sentences, we might transform these tagged sentences to their original outlay (whcih are without tags). At last, storing the result to question_sentences object."
   ]
  },
  {
   "cell_type": "code",
   "execution_count": 64,
   "metadata": {},
   "outputs": [],
   "source": [
    "question_list = []\n",
    "for each in question_sentence_JJ:\n",
    "    for dic in each:\n",
    "        question_list.append(dic[0])\n",
    "question_lists = ' '.join(question_list)\n",
    "question_sentences = sentence.findall(question_lists)"
   ]
  },
  {
   "cell_type": "markdown",
   "metadata": {},
   "source": [
    "**Exclamation Sentence POS Tagging and CFG analysis**\n",
    "<br>\n",
    "To extract imperative sentences from the collected exclamation sentences, we need two steps. \n",
    "* Firstly, we need to find sentences that contain 'Adjective Phrases'. \n",
    "* Secondly, we need to find sentences that start with verb. For the first step, the process is similar with that of processing question sentences."
   ]
  },
  {
   "cell_type": "code",
   "execution_count": 65,
   "metadata": {},
   "outputs": [],
   "source": [
    "exclamation_Token = [nltk.word_tokenize(sent) for sent in exclamation_sentence]\n",
    "exclamation_POS = [nltk.pos_tag(each) for each in exclamation_Token]\n",
    "exclamation_sentence_JJ = []\n",
    "for each in exclamation_POS:\n",
    "    tag_fd = nltk.FreqDist(tag for (word, tag) in each)\n",
    "    if 'JJ' in tag_fd.keys() or 'JJR' in tag_fd.keys() or 'JJS' in tag_fd.keys():\n",
    "        exclamation_sentence_JJ.append(each)"
   ]
  },
  {
   "cell_type": "markdown",
   "metadata": {},
   "source": [
    "The next step is to find sentence that starts with 'VP'. Specifically, tags that derives from 'VERB' are 'VB', 'VBD', 'VBG', 'VBN', 'VBP', and 'VBZ'. After the matching, storing the result to imperative_list object."
   ]
  },
  {
   "cell_type": "code",
   "execution_count": 66,
   "metadata": {},
   "outputs": [],
   "source": [
    "imperative_list = []\n",
    "for each in exclamation_sentence_JJ:\n",
    "    if 'VB' in each[0] or 'VBD' in each[0] or 'VBG' in each[0] or 'VBN' in each[0] or 'VBP' in each[0] or 'VBZ' in each[0]:\n",
    "        imperative_list.append(each)"
   ]
  },
  {
   "cell_type": "markdown",
   "metadata": {},
   "source": [
    "We only get 2125 sentences that satisfy the requirments of having '!' and 'Adjective Phrases' and of starting with verb."
   ]
  },
  {
   "cell_type": "code",
   "execution_count": 67,
   "metadata": {
    "scrolled": true
   },
   "outputs": [
    {
     "data": {
      "text/plain": [
       "2125"
      ]
     },
     "execution_count": 67,
     "metadata": {},
     "output_type": "execute_result"
    }
   ],
   "source": [
    "len(imperative_list)"
   ]
  },
  {
   "cell_type": "markdown",
   "metadata": {},
   "source": [
    "Let's convert and store the sentence to a list object. The final result will be stored to imperative sentences object."
   ]
  },
  {
   "cell_type": "code",
   "execution_count": 68,
   "metadata": {},
   "outputs": [],
   "source": [
    "# Let's see convert and store the sentence to a list object and check what it contains\n",
    "imperative_sentence = []\n",
    "for each in imperative_list:\n",
    "    for dic in each:\n",
    "        imperative_sentence.append(dic[0])\n",
    "imperative_lists = ' '.join(imperative_sentence)\n",
    "imperative_sentences = sentence.findall(imperative_lists)"
   ]
  },
  {
   "cell_type": "markdown",
   "metadata": {},
   "source": [
    "### Statistics Summary\n",
    "The data frame listed below shows statistics information. Now we can summarised that the number of required question sentence is 4174 and that of required imperative sentence is 2125."
   ]
  },
  {
   "cell_type": "code",
   "execution_count": 69,
   "metadata": {
    "scrolled": true
   },
   "outputs": [
    {
     "data": {
      "text/html": [
       "<div>\n",
       "<style scoped>\n",
       "    .dataframe tbody tr th:only-of-type {\n",
       "        vertical-align: middle;\n",
       "    }\n",
       "\n",
       "    .dataframe tbody tr th {\n",
       "        vertical-align: top;\n",
       "    }\n",
       "\n",
       "    .dataframe thead th {\n",
       "        text-align: right;\n",
       "    }\n",
       "</style>\n",
       "<table border=\"1\" class=\"dataframe\">\n",
       "  <thead>\n",
       "    <tr style=\"text-align: right;\">\n",
       "      <th></th>\n",
       "      <th>Information related with Review Text</th>\n",
       "      <th>Number</th>\n",
       "      <th>Declarative Sentences</th>\n",
       "      <th>Number</th>\n",
       "      <th>Question Sentences</th>\n",
       "      <th>Number</th>\n",
       "      <th>Exclamation Sentence</th>\n",
       "      <th>Number</th>\n",
       "    </tr>\n",
       "  </thead>\n",
       "  <tbody>\n",
       "    <tr>\n",
       "      <td>0</td>\n",
       "      <td>Words of Review Text</td>\n",
       "      <td>88129772</td>\n",
       "      <td>Declarative Sentences</td>\n",
       "      <td>1081375</td>\n",
       "      <td>Original Question Sentences</td>\n",
       "      <td>8315</td>\n",
       "      <td>Original Exclamation Sentence</td>\n",
       "      <td>112396</td>\n",
       "    </tr>\n",
       "    <tr>\n",
       "      <td>1</td>\n",
       "      <td>Parsed Sentence</td>\n",
       "      <td>1202086</td>\n",
       "      <td>NA</td>\n",
       "      <td>NA</td>\n",
       "      <td>Required Question Sentence</td>\n",
       "      <td>4174</td>\n",
       "      <td>Required Imperative Sentence</td>\n",
       "      <td>2125</td>\n",
       "    </tr>\n",
       "  </tbody>\n",
       "</table>\n",
       "</div>"
      ],
      "text/plain": [
       "  Information related with Review Text    Number  Declarative Sentences  \\\n",
       "0                 Words of Review Text  88129772  Declarative Sentences   \n",
       "1                      Parsed Sentence   1202086                     NA   \n",
       "\n",
       "  Number              Question Sentences  Number   \\\n",
       "0   1081375  Original Question Sentences     8315   \n",
       "1        NA   Required Question Sentence     4174   \n",
       "\n",
       "            Exclamation Sentence  Number    \n",
       "0  Original Exclamation Sentence    112396  \n",
       "1   Required Imperative Sentence      2125  "
      ]
     },
     "execution_count": 69,
     "metadata": {},
     "output_type": "execute_result"
    }
   ],
   "source": [
    "data = {'Information related with Review Text':['Words of Review Text', 'Parsed Sentence'],\n",
    "       'Number':[len(review_text), len(parsed_sentence)],\n",
    "       'Declarative Sentences':['Declarative Sentences', 'NA'], \n",
    "        'Number   ':[len(declarative_sentence), 'NA'],\n",
    "       'Question Sentences':['Original Question Sentences', 'Required Question Sentence'], \n",
    "        'Number ':[len(question_sentence), len(question_sentence_JJ)],\n",
    "       'Exclamation Sentence':['Original Exclamation Sentence', 'Required Imperative Sentence'], \n",
    "        'Number  ':[len(exclamation_sentence), len(imperative_list)]} \n",
    "df = pd.DataFrame(data) \n",
    "df"
   ]
  },
  {
   "cell_type": "markdown",
   "metadata": {},
   "source": [
    "<br>"
   ]
  },
  {
   "cell_type": "markdown",
   "metadata": {},
   "source": [
    "## Analysis Part"
   ]
  },
  {
   "cell_type": "markdown",
   "metadata": {},
   "source": [
    "### For Question_sentence Analysis\n",
    "Calculate the average words per sentence and the the number of unique word contain in the question sentences."
   ]
  },
  {
   "cell_type": "code",
   "execution_count": 94,
   "metadata": {
    "scrolled": true
   },
   "outputs": [
    {
     "data": {
      "text/html": [
       "<div>\n",
       "<style scoped>\n",
       "    .dataframe tbody tr th:only-of-type {\n",
       "        vertical-align: middle;\n",
       "    }\n",
       "\n",
       "    .dataframe tbody tr th {\n",
       "        vertical-align: top;\n",
       "    }\n",
       "\n",
       "    .dataframe thead th {\n",
       "        text-align: right;\n",
       "    }\n",
       "</style>\n",
       "<table border=\"1\" class=\"dataframe\">\n",
       "  <thead>\n",
       "    <tr style=\"text-align: right;\">\n",
       "      <th></th>\n",
       "      <th>Statistics</th>\n",
       "      <th>Number</th>\n",
       "    </tr>\n",
       "  </thead>\n",
       "  <tbody>\n",
       "    <tr>\n",
       "      <td>0</td>\n",
       "      <td>Average Word Per Sentence</td>\n",
       "      <td>8.855803</td>\n",
       "    </tr>\n",
       "    <tr>\n",
       "      <td>1</td>\n",
       "      <td>Unique Words</td>\n",
       "      <td>6777.000000</td>\n",
       "    </tr>\n",
       "  </tbody>\n",
       "</table>\n",
       "</div>"
      ],
      "text/plain": [
       "                  Statistics       Number\n",
       "0  Average Word Per Sentence     8.855803\n",
       "1               Unique Words  6777.000000"
      ]
     },
     "execution_count": 94,
     "metadata": {},
     "output_type": "execute_result"
    }
   ],
   "source": [
    "total_get_count = ' '.join(question_sentences)\n",
    "total_get_count = nltk.word_tokenize(total_get_count)\n",
    "data = {'Statistics':['Average Word Per Sentence', 'Unique Words'],\n",
    "       'Number':[len(total_get_count)/len(question_sentence), len(set(total_get_count))]} \n",
    "df = pd.DataFrame(data) \n",
    "df"
   ]
  },
  {
   "cell_type": "markdown",
   "metadata": {},
   "source": [
    "**Unigram Analysis:** \n",
    "<br>\n",
    "Before removing the punctuations and stopwords, one can get the top 20 tokens that have the top frequency."
   ]
  },
  {
   "cell_type": "code",
   "execution_count": 95,
   "metadata": {},
   "outputs": [
    {
     "data": {
      "text/html": [
       "<div>\n",
       "<style scoped>\n",
       "    .dataframe tbody tr th:only-of-type {\n",
       "        vertical-align: middle;\n",
       "    }\n",
       "\n",
       "    .dataframe tbody tr th {\n",
       "        vertical-align: top;\n",
       "    }\n",
       "\n",
       "    .dataframe thead th {\n",
       "        text-align: right;\n",
       "    }\n",
       "</style>\n",
       "<table border=\"1\" class=\"dataframe\">\n",
       "  <thead>\n",
       "    <tr style=\"text-align: right;\">\n",
       "      <th></th>\n",
       "      <th>Unigram</th>\n",
       "      <th>Score</th>\n",
       "    </tr>\n",
       "  </thead>\n",
       "  <tbody>\n",
       "    <tr>\n",
       "      <td>0</td>\n",
       "      <td>?</td>\n",
       "      <td>4149</td>\n",
       "    </tr>\n",
       "    <tr>\n",
       "      <td>1</td>\n",
       "      <td>,</td>\n",
       "      <td>2565</td>\n",
       "    </tr>\n",
       "    <tr>\n",
       "      <td>2</td>\n",
       "      <td>the</td>\n",
       "      <td>2544</td>\n",
       "    </tr>\n",
       "    <tr>\n",
       "      <td>3</td>\n",
       "      <td>i</td>\n",
       "      <td>2102</td>\n",
       "    </tr>\n",
       "    <tr>\n",
       "      <td>4</td>\n",
       "      <td>a</td>\n",
       "      <td>1883</td>\n",
       "    </tr>\n",
       "    <tr>\n",
       "      <td>5</td>\n",
       "      <td>to</td>\n",
       "      <td>1309</td>\n",
       "    </tr>\n",
       "    <tr>\n",
       "      <td>6</td>\n",
       "      <td>it</td>\n",
       "      <td>1287</td>\n",
       "    </tr>\n",
       "    <tr>\n",
       "      <td>7</td>\n",
       "      <td>and</td>\n",
       "      <td>1221</td>\n",
       "    </tr>\n",
       "    <tr>\n",
       "      <td>8</td>\n",
       "      <td>is</td>\n",
       "      <td>1110</td>\n",
       "    </tr>\n",
       "    <tr>\n",
       "      <td>9</td>\n",
       "      <td>you</td>\n",
       "      <td>1015</td>\n",
       "    </tr>\n",
       "    <tr>\n",
       "      <td>10</td>\n",
       "      <td>that</td>\n",
       "      <td>873</td>\n",
       "    </tr>\n",
       "    <tr>\n",
       "      <td>11</td>\n",
       "      <td>of</td>\n",
       "      <td>818</td>\n",
       "    </tr>\n",
       "    <tr>\n",
       "      <td>12</td>\n",
       "      <td>for</td>\n",
       "      <td>793</td>\n",
       "    </tr>\n",
       "    <tr>\n",
       "      <td>13</td>\n",
       "      <td>but</td>\n",
       "      <td>709</td>\n",
       "    </tr>\n",
       "    <tr>\n",
       "      <td>14</td>\n",
       "      <td>what</td>\n",
       "      <td>672</td>\n",
       "    </tr>\n",
       "    <tr>\n",
       "      <td>15</td>\n",
       "      <td>in</td>\n",
       "      <td>658</td>\n",
       "    </tr>\n",
       "    <tr>\n",
       "      <td>16</td>\n",
       "      <td>they</td>\n",
       "      <td>653</td>\n",
       "    </tr>\n",
       "    <tr>\n",
       "      <td>17</td>\n",
       "      <td>(</td>\n",
       "      <td>609</td>\n",
       "    </tr>\n",
       "    <tr>\n",
       "      <td>18</td>\n",
       "      <td>this</td>\n",
       "      <td>592</td>\n",
       "    </tr>\n",
       "    <tr>\n",
       "      <td>19</td>\n",
       "      <td>are</td>\n",
       "      <td>574</td>\n",
       "    </tr>\n",
       "  </tbody>\n",
       "</table>\n",
       "</div>"
      ],
      "text/plain": [
       "   Unigram  Score\n",
       "0        ?   4149\n",
       "1        ,   2565\n",
       "2      the   2544\n",
       "3        i   2102\n",
       "4        a   1883\n",
       "5       to   1309\n",
       "6       it   1287\n",
       "7      and   1221\n",
       "8       is   1110\n",
       "9      you   1015\n",
       "10    that    873\n",
       "11      of    818\n",
       "12     for    793\n",
       "13     but    709\n",
       "14    what    672\n",
       "15      in    658\n",
       "16    they    653\n",
       "17       (    609\n",
       "18    this    592\n",
       "19     are    574"
      ]
     },
     "execution_count": 95,
     "metadata": {},
     "output_type": "execute_result"
    }
   ],
   "source": [
    "question_lower = [w.lower() for w in total_get_count]\n",
    "ndist = FreqDist(question_lower)\n",
    "nitems = ndist.most_common(20)\n",
    "\n",
    "question_Uni_df = pd.DataFrame.from_records(nitems)\n",
    "question_Uni_df.columns = ['Unigram', 'Score']\n",
    "question_Uni_df"
   ]
  },
  {
   "cell_type": "markdown",
   "metadata": {},
   "source": [
    "The top 20 tokens do not provide much meaningful information since most of them are punctuations and stopwords. We can find that '?' has appeared 4742 times because what we are processing is the collection of question sentences. Besides, most of them are determinator or prepositions. Hence, we need to eliminate those words or punctuations."
   ]
  },
  {
   "cell_type": "code",
   "execution_count": 96,
   "metadata": {},
   "outputs": [
    {
     "data": {
      "text/html": [
       "<div>\n",
       "<style scoped>\n",
       "    .dataframe tbody tr th:only-of-type {\n",
       "        vertical-align: middle;\n",
       "    }\n",
       "\n",
       "    .dataframe tbody tr th {\n",
       "        vertical-align: top;\n",
       "    }\n",
       "\n",
       "    .dataframe thead th {\n",
       "        text-align: right;\n",
       "    }\n",
       "</style>\n",
       "<table border=\"1\" class=\"dataframe\">\n",
       "  <thead>\n",
       "    <tr style=\"text-align: right;\">\n",
       "      <th></th>\n",
       "      <th>Unigram</th>\n",
       "      <th>Score</th>\n",
       "    </tr>\n",
       "  </thead>\n",
       "  <tbody>\n",
       "    <tr>\n",
       "      <td>0</td>\n",
       "      <td>would</td>\n",
       "      <td>364</td>\n",
       "    </tr>\n",
       "    <tr>\n",
       "      <td>1</td>\n",
       "      <td>like</td>\n",
       "      <td>289</td>\n",
       "    </tr>\n",
       "    <tr>\n",
       "      <td>2</td>\n",
       "      <td>maybe</td>\n",
       "      <td>261</td>\n",
       "    </tr>\n",
       "    <tr>\n",
       "      <td>3</td>\n",
       "      <td>could</td>\n",
       "      <td>258</td>\n",
       "    </tr>\n",
       "    <tr>\n",
       "      <td>4</td>\n",
       "      <td>one</td>\n",
       "      <td>247</td>\n",
       "    </tr>\n",
       "    <tr>\n",
       "      <td>5</td>\n",
       "      <td>size</td>\n",
       "      <td>243</td>\n",
       "    </tr>\n",
       "    <tr>\n",
       "      <td>6</td>\n",
       "      <td>get</td>\n",
       "      <td>219</td>\n",
       "    </tr>\n",
       "    <tr>\n",
       "      <td>7</td>\n",
       "      <td>right</td>\n",
       "      <td>204</td>\n",
       "    </tr>\n",
       "    <tr>\n",
       "      <td>8</td>\n",
       "      <td>good</td>\n",
       "      <td>198</td>\n",
       "    </tr>\n",
       "    <tr>\n",
       "      <td>9</td>\n",
       "      <td>wear</td>\n",
       "      <td>193</td>\n",
       "    </tr>\n",
       "    <tr>\n",
       "      <td>10</td>\n",
       "      <td>really</td>\n",
       "      <td>186</td>\n",
       "    </tr>\n",
       "    <tr>\n",
       "      <td>11</td>\n",
       "      <td>little</td>\n",
       "      <td>176</td>\n",
       "    </tr>\n",
       "    <tr>\n",
       "      <td>12</td>\n",
       "      <td>say</td>\n",
       "      <td>173</td>\n",
       "    </tr>\n",
       "    <tr>\n",
       "      <td>13</td>\n",
       "      <td>know</td>\n",
       "      <td>171</td>\n",
       "    </tr>\n",
       "    <tr>\n",
       "      <td>14</td>\n",
       "      <td>price</td>\n",
       "      <td>170</td>\n",
       "    </tr>\n",
       "    <tr>\n",
       "      <td>15</td>\n",
       "      <td>fit</td>\n",
       "      <td>162</td>\n",
       "    </tr>\n",
       "    <tr>\n",
       "      <td>16</td>\n",
       "      <td>want</td>\n",
       "      <td>158</td>\n",
       "    </tr>\n",
       "    <tr>\n",
       "      <td>17</td>\n",
       "      <td>look</td>\n",
       "      <td>152</td>\n",
       "    </tr>\n",
       "    <tr>\n",
       "      <td>18</td>\n",
       "      <td>pair</td>\n",
       "      <td>141</td>\n",
       "    </tr>\n",
       "    <tr>\n",
       "      <td>19</td>\n",
       "      <td>much</td>\n",
       "      <td>140</td>\n",
       "    </tr>\n",
       "  </tbody>\n",
       "</table>\n",
       "</div>"
      ],
      "text/plain": [
       "   Unigram  Score\n",
       "0    would    364\n",
       "1     like    289\n",
       "2    maybe    261\n",
       "3    could    258\n",
       "4      one    247\n",
       "5     size    243\n",
       "6      get    219\n",
       "7    right    204\n",
       "8     good    198\n",
       "9     wear    193\n",
       "10  really    186\n",
       "11  little    176\n",
       "12     say    173\n",
       "13    know    171\n",
       "14   price    170\n",
       "15     fit    162\n",
       "16    want    158\n",
       "17    look    152\n",
       "18    pair    141\n",
       "19    much    140"
      ]
     },
     "execution_count": 96,
     "metadata": {},
     "output_type": "execute_result"
    }
   ],
   "source": [
    "quetion_alpha_words = [w for w in question_lower if w.isalpha()]\n",
    "stopwords = nltk.corpus.stopwords.words('english')\n",
    "question_stop_words = [w for w in quetion_alpha_words if w not in stopwords]\n",
    "ndist = FreqDist(question_stop_words)\n",
    "topkeys = ndist.most_common(20)\n",
    "\n",
    "question_Uni_df = pd.DataFrame.from_records(topkeys)\n",
    "question_Uni_df.columns = ['Unigram', 'Score']\n",
    "question_Uni_df"
   ]
  },
  {
   "cell_type": "markdown",
   "metadata": {},
   "source": [
    "According to the result, after excluding several function words like 'Would', 'Like', 'Maybe', and 'Could' etc., we can find that the nineth word is **'Good'**, indicating that the attitude of customers toward these reviewed product might be positive. Normally, the word **'right'** indicates 'positive attitude'. However, given that we are analyzing the question sentences, this word can be used to indicate that the customer asking expects a certain answer. <br>\n",
    "Besides, words like **'wear'**, **'fit'**, **'price'** also suggest that customers care about the product quality or product price. The appearance of these words in a collection of question sentences might suggest that people either complained issues that related with those words or they used rhetorical questions for being thought-provoking.\n",
    "<br>\n",
    "However, without checking the contiguency of words in a sentence, we cannot make any conclution. Therefore, it is necessary to conduct a Bigram analysis."
   ]
  },
  {
   "cell_type": "markdown",
   "metadata": {},
   "source": [
    "**Bigram Analysis:**\n",
    "<br>\n",
    "Now we can use the build-in lemmatizer to identify the root of each tokens.\n",
    "<br>\n",
    "Then, by using the BigramCollocationFinder and the score_ngrams function, we can get pairs of bigram as well as their corresponding score. <br> Now, after the process of bigram splitting, we need to use filter to exclude those non-alphabetic tokens and to eliminate pairs that contain any stop word. Finally, we will get the result. "
   ]
  },
  {
   "cell_type": "code",
   "execution_count": 97,
   "metadata": {},
   "outputs": [],
   "source": [
    "wnl = nltk.WordNetLemmatizer()\n",
    "questionLemma = [wnl.lemmatize(each) for each in question_lower]\n",
    "\n",
    "from nltk.collocations import *\n",
    "bigram_measures = nltk.collocations.BigramAssocMeasures()\n",
    "finder = BigramCollocationFinder.from_words(questionLemma)\n",
    "scored = finder.score_ngrams(bigram_measures.raw_freq)\n",
    "question_result = []\n",
    "for each in scored:\n",
    "    if each[0][0].isalpha() and each[0][1].isalpha():\n",
    "        if each[0][0] not in stopwords and each[0][1] not in stopwords:\n",
    "            question_result.append(each)"
   ]
  },
  {
   "cell_type": "code",
   "execution_count": 98,
   "metadata": {},
   "outputs": [
    {
     "data": {
      "text/html": [
       "<div>\n",
       "<style scoped>\n",
       "    .dataframe tbody tr th:only-of-type {\n",
       "        vertical-align: middle;\n",
       "    }\n",
       "\n",
       "    .dataframe tbody tr th {\n",
       "        vertical-align: top;\n",
       "    }\n",
       "\n",
       "    .dataframe thead th {\n",
       "        text-align: right;\n",
       "    }\n",
       "</style>\n",
       "<table border=\"1\" class=\"dataframe\">\n",
       "  <thead>\n",
       "    <tr style=\"text-align: right;\">\n",
       "      <th></th>\n",
       "      <th>Bigram</th>\n",
       "      <th>Score</th>\n",
       "    </tr>\n",
       "  </thead>\n",
       "  <tbody>\n",
       "    <tr>\n",
       "      <td>0</td>\n",
       "      <td>(look, like)</td>\n",
       "      <td>0.000462</td>\n",
       "    </tr>\n",
       "    <tr>\n",
       "      <td>1</td>\n",
       "      <td>(go, wrong)</td>\n",
       "      <td>0.000435</td>\n",
       "    </tr>\n",
       "    <tr>\n",
       "      <td>2</td>\n",
       "      <td>(feel, like)</td>\n",
       "      <td>0.000204</td>\n",
       "    </tr>\n",
       "    <tr>\n",
       "      <td>3</td>\n",
       "      <td>(look, great)</td>\n",
       "      <td>0.000204</td>\n",
       "    </tr>\n",
       "    <tr>\n",
       "      <td>4</td>\n",
       "      <td>(many, time)</td>\n",
       "      <td>0.000204</td>\n",
       "    </tr>\n",
       "    <tr>\n",
       "      <td>5</td>\n",
       "      <td>(look, good)</td>\n",
       "      <td>0.000190</td>\n",
       "    </tr>\n",
       "    <tr>\n",
       "      <td>6</td>\n",
       "      <td>(well, made)</td>\n",
       "      <td>0.000177</td>\n",
       "    </tr>\n",
       "    <tr>\n",
       "      <td>7</td>\n",
       "      <td>(great, price)</td>\n",
       "      <td>0.000163</td>\n",
       "    </tr>\n",
       "    <tr>\n",
       "      <td>8</td>\n",
       "      <td>(little, bit)</td>\n",
       "      <td>0.000149</td>\n",
       "    </tr>\n",
       "    <tr>\n",
       "      <td>9</td>\n",
       "      <td>(year, old)</td>\n",
       "      <td>0.000149</td>\n",
       "    </tr>\n",
       "    <tr>\n",
       "      <td>10</td>\n",
       "      <td>(different, color)</td>\n",
       "      <td>0.000136</td>\n",
       "    </tr>\n",
       "    <tr>\n",
       "      <td>11</td>\n",
       "      <td>(doe, anyone)</td>\n",
       "      <td>0.000136</td>\n",
       "    </tr>\n",
       "    <tr>\n",
       "      <td>12</td>\n",
       "      <td>(else, could)</td>\n",
       "      <td>0.000136</td>\n",
       "    </tr>\n",
       "    <tr>\n",
       "      <td>13</td>\n",
       "      <td>(first, pair)</td>\n",
       "      <td>0.000136</td>\n",
       "    </tr>\n",
       "    <tr>\n",
       "      <td>14</td>\n",
       "      <td>(flip, flop)</td>\n",
       "      <td>0.000136</td>\n",
       "    </tr>\n",
       "    <tr>\n",
       "      <td>15</td>\n",
       "      <td>(good, quality)</td>\n",
       "      <td>0.000136</td>\n",
       "    </tr>\n",
       "    <tr>\n",
       "      <td>16</td>\n",
       "      <td>(high, quality)</td>\n",
       "      <td>0.000136</td>\n",
       "    </tr>\n",
       "    <tr>\n",
       "      <td>17</td>\n",
       "      <td>(larger, size)</td>\n",
       "      <td>0.000136</td>\n",
       "    </tr>\n",
       "    <tr>\n",
       "      <td>18</td>\n",
       "      <td>(best, part)</td>\n",
       "      <td>0.000122</td>\n",
       "    </tr>\n",
       "    <tr>\n",
       "      <td>19</td>\n",
       "      <td>(could, ask)</td>\n",
       "      <td>0.000122</td>\n",
       "    </tr>\n",
       "  </tbody>\n",
       "</table>\n",
       "</div>"
      ],
      "text/plain": [
       "                Bigram     Score\n",
       "0         (look, like)  0.000462\n",
       "1          (go, wrong)  0.000435\n",
       "2         (feel, like)  0.000204\n",
       "3        (look, great)  0.000204\n",
       "4         (many, time)  0.000204\n",
       "5         (look, good)  0.000190\n",
       "6         (well, made)  0.000177\n",
       "7       (great, price)  0.000163\n",
       "8        (little, bit)  0.000149\n",
       "9          (year, old)  0.000149\n",
       "10  (different, color)  0.000136\n",
       "11       (doe, anyone)  0.000136\n",
       "12       (else, could)  0.000136\n",
       "13       (first, pair)  0.000136\n",
       "14        (flip, flop)  0.000136\n",
       "15     (good, quality)  0.000136\n",
       "16     (high, quality)  0.000136\n",
       "17      (larger, size)  0.000136\n",
       "18        (best, part)  0.000122\n",
       "19        (could, ask)  0.000122"
      ]
     },
     "execution_count": 98,
     "metadata": {},
     "output_type": "execute_result"
    }
   ],
   "source": [
    "question_df = pd.DataFrame.from_records(question_result)\n",
    "question_df.columns = ['Bigram', 'Score']\n",
    "question_df.head(20)"
   ]
  },
  {
   "cell_type": "markdown",
   "metadata": {},
   "source": [
    "After the analysis of the top 30 bigrams, we can make a conclustion that, generally, customers hold a positive attitude toward these products since 8 out of the top 30 bigrams are positive. Specifically, those positive bigrams are **('look', 'great'), ('look', 'good'), ('well', 'made'), ('great', 'price'), ('good', 'quality'), and ('high', 'quality')** ect. If we simply focus on these bigrams, it is obvious that the price is reasonable, the quality if great, and the products look great. <br>\n",
    "In most cases, people might use question sentence to expresse their confusion, surprise, or even angry. For interpreating the existence of these positive words under this circumstance, we can make an assumption that customers might use rhetorical question to compliment products. Even for the appearance of bigrame **('go', 'wrong')**, customers might write down comment, such as \"How could you go wrong for getting that product?\", to expresse their confirmation for the purchased products."
   ]
  },
  {
   "cell_type": "markdown",
   "metadata": {},
   "source": [
    "### For Imperative_sentence Analysis\n",
    "Calculate the average words per sentence and the the number of unique word contain in the question sentences."
   ]
  },
  {
   "cell_type": "code",
   "execution_count": 99,
   "metadata": {
    "scrolled": false
   },
   "outputs": [
    {
     "data": {
      "text/html": [
       "<div>\n",
       "<style scoped>\n",
       "    .dataframe tbody tr th:only-of-type {\n",
       "        vertical-align: middle;\n",
       "    }\n",
       "\n",
       "    .dataframe tbody tr th {\n",
       "        vertical-align: top;\n",
       "    }\n",
       "\n",
       "    .dataframe thead th {\n",
       "        text-align: right;\n",
       "    }\n",
       "</style>\n",
       "<table border=\"1\" class=\"dataframe\">\n",
       "  <thead>\n",
       "    <tr style=\"text-align: right;\">\n",
       "      <th></th>\n",
       "      <th>Statistics</th>\n",
       "      <th>Number</th>\n",
       "    </tr>\n",
       "  </thead>\n",
       "  <tbody>\n",
       "    <tr>\n",
       "      <td>0</td>\n",
       "      <td>Average Word Per Sentence</td>\n",
       "      <td>14.868706</td>\n",
       "    </tr>\n",
       "    <tr>\n",
       "      <td>1</td>\n",
       "      <td>Unique Words</td>\n",
       "      <td>3822.000000</td>\n",
       "    </tr>\n",
       "  </tbody>\n",
       "</table>\n",
       "</div>"
      ],
      "text/plain": [
       "                  Statistics       Number\n",
       "0  Average Word Per Sentence    14.868706\n",
       "1               Unique Words  3822.000000"
      ]
     },
     "execution_count": 99,
     "metadata": {},
     "output_type": "execute_result"
    }
   ],
   "source": [
    "total_get_count = ' '.join(imperative_sentences)\n",
    "total_get_count = nltk.word_tokenize(total_get_count)\n",
    "data = {'Statistics':['Average Word Per Sentence', 'Unique Words'],\n",
    "       'Number':[len(total_get_count)/len(imperative_sentences), len(set(total_get_count))]} \n",
    "df = pd.DataFrame(data) \n",
    "df"
   ]
  },
  {
   "cell_type": "markdown",
   "metadata": {},
   "source": [
    "**Unigram Analysis:**\n",
    "<br> \n",
    "Before removing the punctuations and stopwords, one can get the top 20 tokens that have the top frequency."
   ]
  },
  {
   "cell_type": "code",
   "execution_count": 100,
   "metadata": {
    "scrolled": false
   },
   "outputs": [
    {
     "data": {
      "text/html": [
       "<div>\n",
       "<style scoped>\n",
       "    .dataframe tbody tr th:only-of-type {\n",
       "        vertical-align: middle;\n",
       "    }\n",
       "\n",
       "    .dataframe tbody tr th {\n",
       "        vertical-align: top;\n",
       "    }\n",
       "\n",
       "    .dataframe thead th {\n",
       "        text-align: right;\n",
       "    }\n",
       "</style>\n",
       "<table border=\"1\" class=\"dataframe\">\n",
       "  <thead>\n",
       "    <tr style=\"text-align: right;\">\n",
       "      <th></th>\n",
       "      <th>Unigram</th>\n",
       "      <th>Score</th>\n",
       "    </tr>\n",
       "  </thead>\n",
       "  <tbody>\n",
       "    <tr>\n",
       "      <td>0</td>\n",
       "      <td>!</td>\n",
       "      <td>2115</td>\n",
       "    </tr>\n",
       "    <tr>\n",
       "      <td>1</td>\n",
       "      <td>the</td>\n",
       "      <td>1082</td>\n",
       "    </tr>\n",
       "    <tr>\n",
       "      <td>2</td>\n",
       "      <td>,</td>\n",
       "      <td>1047</td>\n",
       "    </tr>\n",
       "    <tr>\n",
       "      <td>3</td>\n",
       "      <td>and</td>\n",
       "      <td>936</td>\n",
       "    </tr>\n",
       "    <tr>\n",
       "      <td>4</td>\n",
       "      <td>a</td>\n",
       "      <td>792</td>\n",
       "    </tr>\n",
       "    <tr>\n",
       "      <td>5</td>\n",
       "      <td>it</td>\n",
       "      <td>631</td>\n",
       "    </tr>\n",
       "    <tr>\n",
       "      <td>6</td>\n",
       "      <td>i</td>\n",
       "      <td>549</td>\n",
       "    </tr>\n",
       "    <tr>\n",
       "      <td>7</td>\n",
       "      <td>to</td>\n",
       "      <td>546</td>\n",
       "    </tr>\n",
       "    <tr>\n",
       "      <td>8</td>\n",
       "      <td>love</td>\n",
       "      <td>472</td>\n",
       "    </tr>\n",
       "    <tr>\n",
       "      <td>9</td>\n",
       "      <td>for</td>\n",
       "      <td>434</td>\n",
       "    </tr>\n",
       "    <tr>\n",
       "      <td>10</td>\n",
       "      <td>in</td>\n",
       "      <td>362</td>\n",
       "    </tr>\n",
       "    <tr>\n",
       "      <td>11</td>\n",
       "      <td>is</td>\n",
       "      <td>362</td>\n",
       "    </tr>\n",
       "    <tr>\n",
       "      <td>12</td>\n",
       "      <td>this</td>\n",
       "      <td>357</td>\n",
       "    </tr>\n",
       "    <tr>\n",
       "      <td>13</td>\n",
       "      <td>my</td>\n",
       "      <td>300</td>\n",
       "    </tr>\n",
       "    <tr>\n",
       "      <td>14</td>\n",
       "      <td>great</td>\n",
       "      <td>288</td>\n",
       "    </tr>\n",
       "    <tr>\n",
       "      <td>15</td>\n",
       "      <td>of</td>\n",
       "      <td>271</td>\n",
       "    </tr>\n",
       "    <tr>\n",
       "      <td>16</td>\n",
       "      <td>them</td>\n",
       "      <td>270</td>\n",
       "    </tr>\n",
       "    <tr>\n",
       "      <td>17</td>\n",
       "      <td>these</td>\n",
       "      <td>257</td>\n",
       "    </tr>\n",
       "    <tr>\n",
       "      <td>18</td>\n",
       "      <td>but</td>\n",
       "      <td>244</td>\n",
       "    </tr>\n",
       "    <tr>\n",
       "      <td>19</td>\n",
       "      <td>n't</td>\n",
       "      <td>241</td>\n",
       "    </tr>\n",
       "  </tbody>\n",
       "</table>\n",
       "</div>"
      ],
      "text/plain": [
       "   Unigram  Score\n",
       "0        !   2115\n",
       "1      the   1082\n",
       "2        ,   1047\n",
       "3      and    936\n",
       "4        a    792\n",
       "5       it    631\n",
       "6        i    549\n",
       "7       to    546\n",
       "8     love    472\n",
       "9      for    434\n",
       "10      in    362\n",
       "11      is    362\n",
       "12    this    357\n",
       "13      my    300\n",
       "14   great    288\n",
       "15      of    271\n",
       "16    them    270\n",
       "17   these    257\n",
       "18     but    244\n",
       "19     n't    241"
      ]
     },
     "execution_count": 100,
     "metadata": {},
     "output_type": "execute_result"
    }
   ],
   "source": [
    "imperative_lower = [w.lower() for w in total_get_count]\n",
    "ndist = FreqDist(imperative_lower)\n",
    "nitems = ndist.most_common(20)\n",
    "\n",
    "imperative_Uni_df = pd.DataFrame.from_records(nitems)\n",
    "imperative_Uni_df.columns = ['Unigram', 'Score']\n",
    "imperative_Uni_df.head(20)"
   ]
  },
  {
   "cell_type": "markdown",
   "metadata": {},
   "source": [
    "Again, these tokens do not provide much information. Hence, eliminating stop words and punctuations are necassary."
   ]
  },
  {
   "cell_type": "code",
   "execution_count": 101,
   "metadata": {},
   "outputs": [
    {
     "data": {
      "text/html": [
       "<div>\n",
       "<style scoped>\n",
       "    .dataframe tbody tr th:only-of-type {\n",
       "        vertical-align: middle;\n",
       "    }\n",
       "\n",
       "    .dataframe tbody tr th {\n",
       "        vertical-align: top;\n",
       "    }\n",
       "\n",
       "    .dataframe thead th {\n",
       "        text-align: right;\n",
       "    }\n",
       "</style>\n",
       "<table border=\"1\" class=\"dataframe\">\n",
       "  <thead>\n",
       "    <tr style=\"text-align: right;\">\n",
       "      <th></th>\n",
       "      <th>Unigram</th>\n",
       "      <th>Score</th>\n",
       "    </tr>\n",
       "  </thead>\n",
       "  <tbody>\n",
       "    <tr>\n",
       "      <td>0</td>\n",
       "      <td>love</td>\n",
       "      <td>472</td>\n",
       "    </tr>\n",
       "    <tr>\n",
       "      <td>1</td>\n",
       "      <td>great</td>\n",
       "      <td>288</td>\n",
       "    </tr>\n",
       "    <tr>\n",
       "      <td>2</td>\n",
       "      <td>size</td>\n",
       "      <td>156</td>\n",
       "    </tr>\n",
       "    <tr>\n",
       "      <td>3</td>\n",
       "      <td>looks</td>\n",
       "      <td>133</td>\n",
       "    </tr>\n",
       "    <tr>\n",
       "      <td>4</td>\n",
       "      <td>get</td>\n",
       "      <td>119</td>\n",
       "    </tr>\n",
       "    <tr>\n",
       "      <td>5</td>\n",
       "      <td>good</td>\n",
       "      <td>118</td>\n",
       "    </tr>\n",
       "    <tr>\n",
       "      <td>6</td>\n",
       "      <td>perfect</td>\n",
       "      <td>109</td>\n",
       "    </tr>\n",
       "    <tr>\n",
       "      <td>7</td>\n",
       "      <td>like</td>\n",
       "      <td>94</td>\n",
       "    </tr>\n",
       "    <tr>\n",
       "      <td>8</td>\n",
       "      <td>shoes</td>\n",
       "      <td>92</td>\n",
       "    </tr>\n",
       "    <tr>\n",
       "      <td>9</td>\n",
       "      <td>wear</td>\n",
       "      <td>92</td>\n",
       "    </tr>\n",
       "    <tr>\n",
       "      <td>10</td>\n",
       "      <td>one</td>\n",
       "      <td>90</td>\n",
       "    </tr>\n",
       "    <tr>\n",
       "      <td>11</td>\n",
       "      <td>color</td>\n",
       "      <td>90</td>\n",
       "    </tr>\n",
       "    <tr>\n",
       "      <td>12</td>\n",
       "      <td>buy</td>\n",
       "      <td>86</td>\n",
       "    </tr>\n",
       "    <tr>\n",
       "      <td>13</td>\n",
       "      <td>much</td>\n",
       "      <td>84</td>\n",
       "    </tr>\n",
       "    <tr>\n",
       "      <td>14</td>\n",
       "      <td>ordered</td>\n",
       "      <td>82</td>\n",
       "    </tr>\n",
       "    <tr>\n",
       "      <td>15</td>\n",
       "      <td>look</td>\n",
       "      <td>82</td>\n",
       "    </tr>\n",
       "    <tr>\n",
       "      <td>16</td>\n",
       "      <td>price</td>\n",
       "      <td>82</td>\n",
       "    </tr>\n",
       "    <tr>\n",
       "      <td>17</td>\n",
       "      <td>bought</td>\n",
       "      <td>81</td>\n",
       "    </tr>\n",
       "    <tr>\n",
       "      <td>18</td>\n",
       "      <td>pair</td>\n",
       "      <td>79</td>\n",
       "    </tr>\n",
       "    <tr>\n",
       "      <td>19</td>\n",
       "      <td>fit</td>\n",
       "      <td>77</td>\n",
       "    </tr>\n",
       "  </tbody>\n",
       "</table>\n",
       "</div>"
      ],
      "text/plain": [
       "    Unigram  Score\n",
       "0      love    472\n",
       "1     great    288\n",
       "2      size    156\n",
       "3     looks    133\n",
       "4       get    119\n",
       "5      good    118\n",
       "6   perfect    109\n",
       "7      like     94\n",
       "8     shoes     92\n",
       "9      wear     92\n",
       "10      one     90\n",
       "11    color     90\n",
       "12      buy     86\n",
       "13     much     84\n",
       "14  ordered     82\n",
       "15     look     82\n",
       "16    price     82\n",
       "17   bought     81\n",
       "18     pair     79\n",
       "19      fit     77"
      ]
     },
     "execution_count": 101,
     "metadata": {},
     "output_type": "execute_result"
    }
   ],
   "source": [
    "imperative_alpha_words = [w for w in imperative_lower if w.isalpha()]\n",
    "imperative_stop_words = [w for w in imperative_alpha_words if w not in stopwords]\n",
    "ndist = FreqDist(imperative_stop_words)\n",
    "topkeys = ndist.most_common(20)\n",
    "\n",
    "imperative_Uni_df = pd.DataFrame.from_records(topkeys)\n",
    "imperative_Uni_df.columns = ['Unigram', 'Score']\n",
    "imperative_Uni_df.head(20)"
   ]
  },
  {
   "cell_type": "markdown",
   "metadata": {},
   "source": [
    "Since the nature of imperative sentences, verbs that displayed above indicate the actions the reviewers had taken. Sometimes, they also reflect the attitude of customers. Take the verb **'love'** as an example, "
   ]
  },
  {
   "cell_type": "markdown",
   "metadata": {},
   "source": [
    "**Bigram Analysis:**\n",
    "<br>\n",
    "Now we can use the build-in lemmatizer to identify the root of each tokens. <br>\n",
    "Then, by using the BigramCollocationFinder and the score_ngrams function, we can get pairs of bigram as well as their corresponding score. <br>\n",
    "Now, after the process of bigram splitting, we need to use filter to exclude those non-alphabetic tokens and to eliminate pairs that contain any stop word. Finally, we will get the result."
   ]
  },
  {
   "cell_type": "code",
   "execution_count": 102,
   "metadata": {},
   "outputs": [],
   "source": [
    "wnl = nltk.WordNetLemmatizer()\n",
    "imperativeLemma = [wnl.lemmatize(each) for each in imperative_lower]\n",
    "\n",
    "finder = BigramCollocationFinder.from_words(imperative_lower)\n",
    "scored = finder.score_ngrams(bigram_measures.raw_freq)\n",
    "result_imperative = []\n",
    "for each in scored:\n",
    "    if each[0][0].isalpha() and each[0][1].isalpha():\n",
    "        if each[0][0] not in stopwords and each[0][1] not in stopwords:\n",
    "            result_imperative.append(each)"
   ]
  },
  {
   "cell_type": "code",
   "execution_count": 103,
   "metadata": {
    "scrolled": false
   },
   "outputs": [
    {
     "data": {
      "text/html": [
       "<div>\n",
       "<style scoped>\n",
       "    .dataframe tbody tr th:only-of-type {\n",
       "        vertical-align: middle;\n",
       "    }\n",
       "\n",
       "    .dataframe tbody tr th {\n",
       "        vertical-align: top;\n",
       "    }\n",
       "\n",
       "    .dataframe thead th {\n",
       "        text-align: right;\n",
       "    }\n",
       "</style>\n",
       "<table border=\"1\" class=\"dataframe\">\n",
       "  <thead>\n",
       "    <tr style=\"text-align: right;\">\n",
       "      <th></th>\n",
       "      <th>Bigram</th>\n",
       "      <th>Score</th>\n",
       "    </tr>\n",
       "  </thead>\n",
       "  <tbody>\n",
       "    <tr>\n",
       "      <td>0</td>\n",
       "      <td>(looks, great)</td>\n",
       "      <td>0.001931</td>\n",
       "    </tr>\n",
       "    <tr>\n",
       "      <td>1</td>\n",
       "      <td>(works, great)</td>\n",
       "      <td>0.000601</td>\n",
       "    </tr>\n",
       "    <tr>\n",
       "      <td>2</td>\n",
       "      <td>(fits, great)</td>\n",
       "      <td>0.000443</td>\n",
       "    </tr>\n",
       "    <tr>\n",
       "      <td>3</td>\n",
       "      <td>(year, old)</td>\n",
       "      <td>0.000443</td>\n",
       "    </tr>\n",
       "    <tr>\n",
       "      <td>4</td>\n",
       "      <td>(another, pair)</td>\n",
       "      <td>0.000411</td>\n",
       "    </tr>\n",
       "    <tr>\n",
       "      <td>5</td>\n",
       "      <td>(size, smaller)</td>\n",
       "      <td>0.000411</td>\n",
       "    </tr>\n",
       "    <tr>\n",
       "      <td>6</td>\n",
       "      <td>(great, price)</td>\n",
       "      <td>0.000380</td>\n",
       "    </tr>\n",
       "    <tr>\n",
       "      <td>7</td>\n",
       "      <td>(worked, great)</td>\n",
       "      <td>0.000348</td>\n",
       "    </tr>\n",
       "    <tr>\n",
       "      <td>8</td>\n",
       "      <td>(looking, forward)</td>\n",
       "      <td>0.000316</td>\n",
       "    </tr>\n",
       "    <tr>\n",
       "      <td>9</td>\n",
       "      <td>(different, color)</td>\n",
       "      <td>0.000285</td>\n",
       "    </tr>\n",
       "    <tr>\n",
       "      <td>10</td>\n",
       "      <td>(different, colors)</td>\n",
       "      <td>0.000285</td>\n",
       "    </tr>\n",
       "    <tr>\n",
       "      <td>11</td>\n",
       "      <td>(flip, flops)</td>\n",
       "      <td>0.000285</td>\n",
       "    </tr>\n",
       "    <tr>\n",
       "      <td>12</td>\n",
       "      <td>(good, quality)</td>\n",
       "      <td>0.000285</td>\n",
       "    </tr>\n",
       "    <tr>\n",
       "      <td>13</td>\n",
       "      <td>(look, great)</td>\n",
       "      <td>0.000285</td>\n",
       "    </tr>\n",
       "    <tr>\n",
       "      <td>14</td>\n",
       "      <td>(good, work)</td>\n",
       "      <td>0.000253</td>\n",
       "    </tr>\n",
       "    <tr>\n",
       "      <td>15</td>\n",
       "      <td>(larger, size)</td>\n",
       "      <td>0.000253</td>\n",
       "    </tr>\n",
       "    <tr>\n",
       "      <td>16</td>\n",
       "      <td>(looks, like)</td>\n",
       "      <td>0.000253</td>\n",
       "    </tr>\n",
       "    <tr>\n",
       "      <td>17</td>\n",
       "      <td>(blue, color)</td>\n",
       "      <td>0.000222</td>\n",
       "    </tr>\n",
       "    <tr>\n",
       "      <td>18</td>\n",
       "      <td>(fine, jewelry)</td>\n",
       "      <td>0.000222</td>\n",
       "    </tr>\n",
       "    <tr>\n",
       "      <td>19</td>\n",
       "      <td>(free, shipping)</td>\n",
       "      <td>0.000222</td>\n",
       "    </tr>\n",
       "  </tbody>\n",
       "</table>\n",
       "</div>"
      ],
      "text/plain": [
       "                 Bigram     Score\n",
       "0        (looks, great)  0.001931\n",
       "1        (works, great)  0.000601\n",
       "2         (fits, great)  0.000443\n",
       "3           (year, old)  0.000443\n",
       "4       (another, pair)  0.000411\n",
       "5       (size, smaller)  0.000411\n",
       "6        (great, price)  0.000380\n",
       "7       (worked, great)  0.000348\n",
       "8    (looking, forward)  0.000316\n",
       "9    (different, color)  0.000285\n",
       "10  (different, colors)  0.000285\n",
       "11        (flip, flops)  0.000285\n",
       "12      (good, quality)  0.000285\n",
       "13        (look, great)  0.000285\n",
       "14         (good, work)  0.000253\n",
       "15       (larger, size)  0.000253\n",
       "16        (looks, like)  0.000253\n",
       "17        (blue, color)  0.000222\n",
       "18      (fine, jewelry)  0.000222\n",
       "19     (free, shipping)  0.000222"
      ]
     },
     "execution_count": 103,
     "metadata": {},
     "output_type": "execute_result"
    }
   ],
   "source": [
    "imperative_df = pd.DataFrame.from_records(result_imperative)\n",
    "imperative_df.columns = ['Bigram', 'Score']\n",
    "imperative_df.head(20)"
   ]
  },
  {
   "cell_type": "markdown",
   "metadata": {},
   "source": [
    "After the analysis of the top 20 bigrams, we can make a conclustion that, generally, customers still hold a positive attitude. Specifically, the socre of bigram (looks, great) is approximately three times than that of bigram (works, great), reflecting that 'looks great' has a relatively high frequency. Besides, despite the top 2 bigrams, other positive bigrams such as (fits, great), (great, price), (worked, great), (good, quality), and (look, great) etc. are also included in the list. "
   ]
  },
  {
   "cell_type": "markdown",
   "metadata": {},
   "source": [
    "<br>"
   ]
  },
  {
   "cell_type": "markdown",
   "metadata": {},
   "source": [
    "## Sentiment Analysis"
   ]
  },
  {
   "cell_type": "markdown",
   "metadata": {},
   "source": [
    "The reason why we should conduct a sentiment analysis is that we can only use unigrams or bigrams that have relatively high frequency to speculate the customer altitude. It is impossible to get a numeric indicator to reflect the degree of satisfaction or degree of dissatisfaction. By using the sentiment intensity analyzer embedded in the nltk package."
   ]
  },
  {
   "cell_type": "markdown",
   "metadata": {},
   "source": [
    "### Imperative Sentences Analysis:\n",
    "Using the polarity_scores, we can get the a numeric results based on the input text (or each sentence). The results is consistent with Positive values, negative value, and neutral value. Next the function will generates a compound value which indicates the direction and degree of satisfaction level."
   ]
  },
  {
   "cell_type": "code",
   "execution_count": 109,
   "metadata": {
    "scrolled": true
   },
   "outputs": [
    {
     "data": {
      "text/html": [
       "<div>\n",
       "<style scoped>\n",
       "    .dataframe tbody tr th:only-of-type {\n",
       "        vertical-align: middle;\n",
       "    }\n",
       "\n",
       "    .dataframe tbody tr th {\n",
       "        vertical-align: top;\n",
       "    }\n",
       "\n",
       "    .dataframe thead th {\n",
       "        text-align: right;\n",
       "    }\n",
       "</style>\n",
       "<table border=\"1\" class=\"dataframe\">\n",
       "  <thead>\n",
       "    <tr style=\"text-align: right;\">\n",
       "      <th></th>\n",
       "      <th>neg</th>\n",
       "      <th>neu</th>\n",
       "      <th>pos</th>\n",
       "      <th>compound</th>\n",
       "      <th>sentence</th>\n",
       "    </tr>\n",
       "  </thead>\n",
       "  <tbody>\n",
       "    <tr>\n",
       "      <td>0</td>\n",
       "      <td>0.0</td>\n",
       "      <td>0.338</td>\n",
       "      <td>0.662</td>\n",
       "      <td>0.9286</td>\n",
       "      <td>Arrived in good time , fit like a dream , perf...</td>\n",
       "    </tr>\n",
       "    <tr>\n",
       "      <td>1</td>\n",
       "      <td>0.0</td>\n",
       "      <td>0.471</td>\n",
       "      <td>0.529</td>\n",
       "      <td>0.6696</td>\n",
       "      <td>Love my new , black converse !</td>\n",
       "    </tr>\n",
       "    <tr>\n",
       "      <td>2</td>\n",
       "      <td>0.0</td>\n",
       "      <td>1.000</td>\n",
       "      <td>0.000</td>\n",
       "      <td>0.0000</td>\n",
       "      <td>Shipping time was immediate !</td>\n",
       "    </tr>\n",
       "    <tr>\n",
       "      <td>3</td>\n",
       "      <td>0.0</td>\n",
       "      <td>0.790</td>\n",
       "      <td>0.210</td>\n",
       "      <td>0.3382</td>\n",
       "      <td>Let 's hear it for &amp; # 34 ; old school &amp; # 34 ...</td>\n",
       "    </tr>\n",
       "    <tr>\n",
       "      <td>4</td>\n",
       "      <td>0.0</td>\n",
       "      <td>0.695</td>\n",
       "      <td>0.305</td>\n",
       "      <td>0.6588</td>\n",
       "      <td>Reliving my younger days is great in these aut...</td>\n",
       "    </tr>\n",
       "  </tbody>\n",
       "</table>\n",
       "</div>"
      ],
      "text/plain": [
       "   neg    neu    pos  compound  \\\n",
       "0  0.0  0.338  0.662    0.9286   \n",
       "1  0.0  0.471  0.529    0.6696   \n",
       "2  0.0  1.000  0.000    0.0000   \n",
       "3  0.0  0.790  0.210    0.3382   \n",
       "4  0.0  0.695  0.305    0.6588   \n",
       "\n",
       "                                            sentence  \n",
       "0  Arrived in good time , fit like a dream , perf...  \n",
       "1                     Love my new , black converse !  \n",
       "2                      Shipping time was immediate !  \n",
       "3  Let 's hear it for & # 34 ; old school & # 34 ...  \n",
       "4  Reliving my younger days is great in these aut...  "
      ]
     },
     "execution_count": 109,
     "metadata": {},
     "output_type": "execute_result"
    }
   ],
   "source": [
    "from nltk.sentiment.vader import SentimentIntensityAnalyzer as SIA\n",
    "sia = SIA()\n",
    "results = []\n",
    "\n",
    "for line in imperative_sentences:\n",
    "    pol_score = sia.polarity_scores(line)\n",
    "    pol_score['sentence'] = line\n",
    "    results.append(pol_score)\n",
    "\n",
    "df = pd.DataFrame.from_records(results)\n",
    "df.head(5)"
   ]
  },
  {
   "cell_type": "markdown",
   "metadata": {},
   "source": [
    "To better identify each sentence, we can create a new column named label which store numeric variable. For the sentence that is being labled as '1', it implys that this sentence should be positive. If it is being labled as '0', it is neutral. If the label is '-1', then it is negative. In this case, we set the threshold as '0.3' and '-0.3'."
   ]
  },
  {
   "cell_type": "code",
   "execution_count": 116,
   "metadata": {},
   "outputs": [
    {
     "data": {
      "text/html": [
       "<div>\n",
       "<style scoped>\n",
       "    .dataframe tbody tr th:only-of-type {\n",
       "        vertical-align: middle;\n",
       "    }\n",
       "\n",
       "    .dataframe tbody tr th {\n",
       "        vertical-align: top;\n",
       "    }\n",
       "\n",
       "    .dataframe thead th {\n",
       "        text-align: right;\n",
       "    }\n",
       "</style>\n",
       "<table border=\"1\" class=\"dataframe\">\n",
       "  <thead>\n",
       "    <tr style=\"text-align: right;\">\n",
       "      <th></th>\n",
       "      <th>neg</th>\n",
       "      <th>neu</th>\n",
       "      <th>pos</th>\n",
       "      <th>compound</th>\n",
       "      <th>sentence</th>\n",
       "      <th>label</th>\n",
       "    </tr>\n",
       "  </thead>\n",
       "  <tbody>\n",
       "    <tr>\n",
       "      <td>0</td>\n",
       "      <td>0.0</td>\n",
       "      <td>0.338</td>\n",
       "      <td>0.662</td>\n",
       "      <td>0.9286</td>\n",
       "      <td>Arrived in good time , fit like a dream , perf...</td>\n",
       "      <td>1</td>\n",
       "    </tr>\n",
       "    <tr>\n",
       "      <td>1</td>\n",
       "      <td>0.0</td>\n",
       "      <td>0.471</td>\n",
       "      <td>0.529</td>\n",
       "      <td>0.6696</td>\n",
       "      <td>Love my new , black converse !</td>\n",
       "      <td>1</td>\n",
       "    </tr>\n",
       "    <tr>\n",
       "      <td>2</td>\n",
       "      <td>0.0</td>\n",
       "      <td>1.000</td>\n",
       "      <td>0.000</td>\n",
       "      <td>0.0000</td>\n",
       "      <td>Shipping time was immediate !</td>\n",
       "      <td>0</td>\n",
       "    </tr>\n",
       "    <tr>\n",
       "      <td>3</td>\n",
       "      <td>0.0</td>\n",
       "      <td>0.790</td>\n",
       "      <td>0.210</td>\n",
       "      <td>0.3382</td>\n",
       "      <td>Let 's hear it for &amp; # 34 ; old school &amp; # 34 ...</td>\n",
       "      <td>1</td>\n",
       "    </tr>\n",
       "    <tr>\n",
       "      <td>4</td>\n",
       "      <td>0.0</td>\n",
       "      <td>0.695</td>\n",
       "      <td>0.305</td>\n",
       "      <td>0.6588</td>\n",
       "      <td>Reliving my younger days is great in these aut...</td>\n",
       "      <td>1</td>\n",
       "    </tr>\n",
       "  </tbody>\n",
       "</table>\n",
       "</div>"
      ],
      "text/plain": [
       "   neg    neu    pos  compound  \\\n",
       "0  0.0  0.338  0.662    0.9286   \n",
       "1  0.0  0.471  0.529    0.6696   \n",
       "2  0.0  1.000  0.000    0.0000   \n",
       "3  0.0  0.790  0.210    0.3382   \n",
       "4  0.0  0.695  0.305    0.6588   \n",
       "\n",
       "                                            sentence  label  \n",
       "0  Arrived in good time , fit like a dream , perf...      1  \n",
       "1                     Love my new , black converse !      1  \n",
       "2                      Shipping time was immediate !      0  \n",
       "3  Let 's hear it for & # 34 ; old school & # 34 ...      1  \n",
       "4  Reliving my younger days is great in these aut...      1  "
      ]
     },
     "execution_count": 116,
     "metadata": {},
     "output_type": "execute_result"
    }
   ],
   "source": [
    "df['label'] = 0\n",
    "df.loc[df['compound'] > 0.3, 'label'] = 1\n",
    "df.loc[df['compound'] < -0.3, 'label'] = -1\n",
    "df.head(5)"
   ]
  },
  {
   "cell_type": "code",
   "execution_count": 118,
   "metadata": {},
   "outputs": [
    {
     "name": "stdout",
     "output_type": "stream",
     "text": [
      "Positive sentence:\n",
      "\n",
      "['Arrived in good time , fit like a dream , perfect for the actor playing Gladys Herdman !', 'Love my new , black converse !', \"Let 's hear it for & # 34 ; old school & # 34 ; chic !\"]\n",
      "\n",
      "Negative sentence:\n",
      "\n",
      "[\"Purchased this for my boyfriend 's birthday ; usually he complains that t-shirts are too short , yet this one in tall is too long !\",\n",
      " 'Loved them but did an exchange because the orthotic inserts were not as comfortable as boots with the heel and arches built in for my wide foot !',\n",
      " 'Look no further !']\n"
     ]
    }
   ],
   "source": [
    "print(\"Positive sentence:\\n\")\n",
    "pprint(list(df[df['label'] == 1].sentence)[:3], width=200)\n",
    "\n",
    "print(\"\\nNegative sentence:\\n\")\n",
    "pprint(list(df[df['label'] == -1].sentence)[:3], width=200)"
   ]
  },
  {
   "cell_type": "code",
   "execution_count": 113,
   "metadata": {},
   "outputs": [
    {
     "data": {
      "image/png": "[encoded data removed]",
      "text/plain": [
       "<Figure size 576x576 with 1 Axes>"
      ]
     },
     "metadata": {},
     "output_type": "display_data"
    }
   ],
   "source": [
    "fig, ax = plt.subplots(figsize=(8, 8))\n",
    "counts = df.label.value_counts(normalize=True) * 100\n",
    "sns.barplot(x=counts.index, y=counts, ax=ax)\n",
    "\n",
    "ax.set_xticklabels(['Negative', 'Neutral', 'Positive'])\n",
    "ax.set_ylabel(\"Percentage\")\n",
    "\n",
    "plt.show()"
   ]
  },
  {
   "cell_type": "markdown",
   "metadata": {},
   "source": [
    "<br>"
   ]
  },
  {
   "cell_type": "markdown",
   "metadata": {},
   "source": [
    "### Question Sentences Analysis:"
   ]
  },
  {
   "cell_type": "code",
   "execution_count": 123,
   "metadata": {},
   "outputs": [
    {
     "data": {
      "text/html": [
       "<div>\n",
       "<style scoped>\n",
       "    .dataframe tbody tr th:only-of-type {\n",
       "        vertical-align: middle;\n",
       "    }\n",
       "\n",
       "    .dataframe tbody tr th {\n",
       "        vertical-align: top;\n",
       "    }\n",
       "\n",
       "    .dataframe thead th {\n",
       "        text-align: right;\n",
       "    }\n",
       "</style>\n",
       "<table border=\"1\" class=\"dataframe\">\n",
       "  <thead>\n",
       "    <tr style=\"text-align: right;\">\n",
       "      <th></th>\n",
       "      <th>neg</th>\n",
       "      <th>neu</th>\n",
       "      <th>pos</th>\n",
       "      <th>compound</th>\n",
       "      <th>sentence</th>\n",
       "      <th>label</th>\n",
       "    </tr>\n",
       "  </thead>\n",
       "  <tbody>\n",
       "    <tr>\n",
       "      <td>0</td>\n",
       "      <td>0.146</td>\n",
       "      <td>0.782</td>\n",
       "      <td>0.072</td>\n",
       "      <td>-0.3491</td>\n",
       "      <td>I was slightly disappointed that the headset h...</td>\n",
       "      <td>-1</td>\n",
       "    </tr>\n",
       "    <tr>\n",
       "      <td>1</td>\n",
       "      <td>0.000</td>\n",
       "      <td>1.000</td>\n",
       "      <td>0.000</td>\n",
       "      <td>0.0000</td>\n",
       "      <td>However , how much would it cost to take a for...</td>\n",
       "      <td>0</td>\n",
       "    </tr>\n",
       "    <tr>\n",
       "      <td>2</td>\n",
       "      <td>0.000</td>\n",
       "      <td>0.690</td>\n",
       "      <td>0.310</td>\n",
       "      <td>0.4019</td>\n",
       "      <td>Interested in knowing where you are going ?</td>\n",
       "      <td>1</td>\n",
       "    </tr>\n",
       "    <tr>\n",
       "      <td>3</td>\n",
       "      <td>0.000</td>\n",
       "      <td>1.000</td>\n",
       "      <td>0.000</td>\n",
       "      <td>0.0000</td>\n",
       "      <td>How about the current temperature ?</td>\n",
       "      <td>0</td>\n",
       "    </tr>\n",
       "    <tr>\n",
       "      <td>4</td>\n",
       "      <td>0.000</td>\n",
       "      <td>0.828</td>\n",
       "      <td>0.172</td>\n",
       "      <td>0.4019</td>\n",
       "      <td>Are you just the slightest bit interested in w...</td>\n",
       "      <td>1</td>\n",
       "    </tr>\n",
       "  </tbody>\n",
       "</table>\n",
       "</div>"
      ],
      "text/plain": [
       "     neg    neu    pos  compound  \\\n",
       "0  0.146  0.782  0.072   -0.3491   \n",
       "1  0.000  1.000  0.000    0.0000   \n",
       "2  0.000  0.690  0.310    0.4019   \n",
       "3  0.000  1.000  0.000    0.0000   \n",
       "4  0.000  0.828  0.172    0.4019   \n",
       "\n",
       "                                            sentence  label  \n",
       "0  I was slightly disappointed that the headset h...     -1  \n",
       "1  However , how much would it cost to take a for...      0  \n",
       "2        Interested in knowing where you are going ?      1  \n",
       "3                How about the current temperature ?      0  \n",
       "4  Are you just the slightest bit interested in w...      1  "
      ]
     },
     "execution_count": 123,
     "metadata": {},
     "output_type": "execute_result"
    }
   ],
   "source": [
    "results = []\n",
    "for line in question_sentences:\n",
    "    pol_score = sia.polarity_scores(line)\n",
    "    pol_score['sentence'] = line\n",
    "    results.append(pol_score)\n",
    "\n",
    "df = pd.DataFrame.from_records(results)\n",
    "df['label'] = 0\n",
    "df.loc[df['compound'] > 0.3, 'label'] = 1\n",
    "df.loc[df['compound'] < -0.3, 'label'] = -1\n",
    "df.head(5)"
   ]
  },
  {
   "cell_type": "code",
   "execution_count": 124,
   "metadata": {},
   "outputs": [
    {
     "name": "stdout",
     "output_type": "stream",
     "text": [
      "Positive sentence:\n",
      "\n",
      "['Interested in knowing where you are going ?',\n",
      " 'Are you just the slightest bit interested in what your current altitude may be ?',\n",
      " \"I 'm a major Converse fan , I like to collect them in all different colors , why not pink ?\"]\n",
      "\n",
      "Negative sentence:\n",
      "\n",
      "['I was slightly disappointed that the headset headphones did not play the audio , and instead the computer speakers played the audio , so why do I need a headset for just the microphone ?',\n",
      " \"It 's Ugly , it squishes , and the fit feels weird at first and did I mention ugly ?\",\n",
      " \"That sounds awful , does n't it ?\"]\n"
     ]
    }
   ],
   "source": [
    "print(\"Positive sentence:\\n\")\n",
    "pprint(list(df[df['label'] == 1].sentence)[:3], width=200)\n",
    "\n",
    "print(\"\\nNegative sentence:\\n\")\n",
    "pprint(list(df[df['label'] == -1].sentence)[:3], width=200)"
   ]
  },
  {
   "cell_type": "code",
   "execution_count": 125,
   "metadata": {},
   "outputs": [
    {
     "data": {
      "image/png": "[encoded data removed]",
      "text/plain": [
       "<Figure size 576x576 with 1 Axes>"
      ]
     },
     "metadata": {},
     "output_type": "display_data"
    }
   ],
   "source": [
    "fig, ax = plt.subplots(figsize=(8, 8))\n",
    "counts = df.label.value_counts(normalize=True) * 100\n",
    "sns.barplot(x=counts.index, y=counts, ax=ax)\n",
    "\n",
    "ax.set_xticklabels(['Negative', 'Neutral', 'Positive'])\n",
    "ax.set_ylabel(\"Percentage\")\n",
    "\n",
    "plt.show()"
   ]
  },
  {
   "cell_type": "markdown",
   "metadata": {},
   "source": [
    "<br>"
   ]
  }
 ],
 "metadata": {
  "kernelspec": {
   "display_name": "Python 3",
   "language": "python",
   "name": "python3"
  },
  "language_info": {
   "codemirror_mode": {
    "name": "ipython",
    "version": 3
   },
   "file_extension": ".py",
   "mimetype": "text/x-python",
   "name": "python",
   "nbconvert_exporter": "python",
   "pygments_lexer": "ipython3",
   "version": "3.7.4"
  }
 },
 "nbformat": 4,
 "nbformat_minor": 2
}
