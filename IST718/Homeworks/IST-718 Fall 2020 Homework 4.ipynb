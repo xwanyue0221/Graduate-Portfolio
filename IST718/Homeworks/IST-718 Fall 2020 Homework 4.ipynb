{
 "cells": [
  {
   "cell_type": "markdown",
   "metadata": {},
   "source": [
    "##### Grading Feedback Cell"
   ]
  },
  {
   "cell_type": "markdown",
   "metadata": {},
   "source": [
    "# IST 718: Big Data Analytics\n",
    "\n",
    "- Professor: Willard Williamson <wewillia@syr.edu>\n",
    "- Faculty Assistant: Vidushi Mishra <vmishr01@syr.edu>\n",
    "- Faculty Assistant: Pranav Kottoli Radhakrishna <pkottoli@syr.edu>\n",
    "## General instructions:\n",
    "\n",
    "- You are welcome to discuss the problems with your classmates but __you are not allowed to copy any part of your answers from your classmates.  Short code snippets are allowed from the internet.  Code from the class text books or class provided code can be copied in its entirety.__\n",
    "- There could be tests in some cells (i.e., `assert` and `np.testing.` statements). These tests (if present) are used to grade your answers. **However, the professor and FAs could use __additional__ test for your answer. Think about cases where your code should run even if it passess all the tests you see.**\n",
    "- Before submitting your work, remember to check for run time errors with the following procedure:\n",
    "`Kernel`$\\rightarrow$`Restart and Run All`.  All runtime errors will result in a minimum penalty of half off.\n",
    "- Data Bricks is the official class runtime environment so you should test your code on Data Bricks before submission.  If there is a runtime problem in the grading environment, we will try your code on Data Bricks before making a final grading decision.\n",
    "- All plots shall include descriptinve title and axis labels.  Plot legends shall be included where possible.  Unless stated otherwise, plots can be made using any Python plotting package.  It is understood that spark data structures must be converted to something like numpy or pandas prior to making plots.  All required mathematical operations, filtering, selection, etc., required by a homework question shall be performed in spark prior to converting to numpy or pandas.\n",
    "- Grading feedback cells are there for graders to provide feedback to students.  Don't change or remove grading feedback cells.\n",
    "- Don't add or remove files from your git repo.\n",
    "- Do not change file names in your repo.  This also means don't change the title of the ipython notebook.\n",
    "- You are free to add additional code cells around the cells marked `your code here`.\n",
    "- We reserve the right to take points off for operations that are extremely inefficient or \"heavy weight\".  This is a big data class and extremely inefficient operations make a big difference when scaling up to large data sets.  For example, the spark dataframe collect() method is a very heavy weight operation and should not be used unless it there is a real need for it.  An example where collect() might be needed is to get ready to make a plot after filtering a spark dataframe.\n",
    "- import * is not allowed because it is considered a very bad coding practice and in some cases can result in a significant delay (which slows down the grading process) in loading imports.  For example, the statement `from sympy import *` is not allowed.  You must import the specific packages that you need.\n",
    "- If you perform databricks specific operations, you MUST protect those operations in an if statement by calling the is_databricks() function provided in all homework assignments.  For example, if you use dbutils (databricks utilities), only run dbutils commands if is_databricks() returns true.  Runtime errors created in the grading environment by not protecting databricks specific commands in an if statement will result in a runtime error points deduction. \n",
    "- The graders reserve the right to deduct points for subjective things we see with your code.  For example, if we ask you to create a pandas data frame to display values from an investigation and you hard code the values, we will take points off for that.  This is only one of many different things we could find in reviewing your code.  In general, write your code like you are submitting it for a code peer review in industry.  \n",
    "- Level of effort is part of our subjective grading.  Oftentimes there is a large disparity between the level of effort between students who are trying learn, and students who are trying to do the minimum possible to check off an assignment requirement.  For example, in cases where we ask for a more open ended investigation, some students put in significant effort and some students do the minimum possible to meet requirements.  In these cases, we may take points off for students who did not put in much effort as compared to students who did put in a lot of effort.  We feel that the students who did a better job deserve a better grade.  We reserve the right to invoke level of effort grading at any time.\n",
    "- Only use spark, spark machine learning, spark data frames, RDD's, and map reduce to solve all problems unless instructed otherwise.\n",
    "- Unless code is provided which reads data files, __you must use the get_training_filename function povided below to read data files.\"  Runtime errors encountered while grading caused by students not using get_training_filename will result in a minimum of half points off for the problem in question.__"
   ]
  },
  {
   "cell_type": "code",
   "execution_count": 1,
   "metadata": {},
   "outputs": [],
   "source": [
    "# Do not delete or change this cell\n",
    "\n",
    "enable_grid = True\n",
    "\n",
    "# grading import statements\n",
    "%matplotlib inline\n",
    "from pyspark.sql import SparkSession\n",
    "from pyspark.sql import SQLContext\n",
    "spark = SparkSession.builder.getOrCreate()\n",
    "sc = spark.sparkContext\n",
    "sqlContext = SQLContext(sc)\n",
    "import os\n",
    "\n",
    "# Define a function to determine if we are running on data bricks\n",
    "# Return true if running in the data bricks environment, false otherwise\n",
    "def is_databricks():\n",
    "    # get the databricks runtime version\n",
    "    db_env = os.getenv(\"DATABRICKS_RUNTIME_VERSION\")\n",
    "    \n",
    "    # if running on data bricks\n",
    "    if db_env != None:\n",
    "        return True\n",
    "    else:\n",
    "        return False\n",
    "\n",
    "# Define a function to read the data file.  The full path data file name is constructed\n",
    "# by checking runtime environment variables to determine if the runtime environment is \n",
    "# databricks, or a student's personal computer.  The full path file name is then\n",
    "# constructed based on the runtime env.\n",
    "# \n",
    "# Params\n",
    "#   data_file_name: The base name of the data file to load\n",
    "# \n",
    "# Returns the full path file name based on the runtime env\n",
    "#\n",
    "# Correct Usage Example (pass ONLY the full file name):\n",
    "#   file_name_to_load = get_training_filename(\"sms_spam.csv\") # correct - pass ONLY the full file name  \n",
    "#   \n",
    "# Incorrect Usage Example\n",
    "#   file_name_to_load = get_training_filename(\"/sms_spam.csv\") # incorrect - pass ONLY the full file name\n",
    "#   file_name_to_load = get_training_filename(\"sms_spam.csv/\") # incorrect - pass ONLY the full file name\n",
    "#   file_name_to_load = get_training_filename(\"c:/users/will/data/sms_spam.csv\") incorrect -pass ONLY the full file name\n",
    "def get_training_filename(data_file_name):    \n",
    "    # if running on data bricks\n",
    "    if is_databricks():\n",
    "        # build the full path file name assuming data brick env\n",
    "        full_path_name = \"dbfs:/FileStore/tables/%s\" % data_file_name\n",
    "    # else the data is assumed to be in the same dir as this notebook\n",
    "    else:\n",
    "        # Assume the student is running on their own computer and load the data\n",
    "        # file from the same dir as this notebook\n",
    "        full_path_name = data_file_name\n",
    "    \n",
    "    # return the full path file name to the caller\n",
    "    return full_path_name"
   ]
  },
  {
   "cell_type": "markdown",
   "metadata": {},
   "source": [
    "# Sentiment Analysis\n",
    "In this assignment, you will use the tweets.csv file to perform sentiment analysis. The tweets.csv file contains the following columns:\n",
    "- target: the polarity of the tweet (0 = negative, 4 = positive)\n",
    "- ids: The id of the tweet ( 2087)\n",
    "- date: the date of the tweet (Sat May 16 23:58:44 UTC 2009)\n",
    "- flag: The query (lyx). If there is no query, then this value is NO_QUERY.\n",
    "- user: the user that tweeted (robotickilldozr)\n",
    "- text: the text of the tweet (Lyx is cool)"
   ]
  },
  {
   "cell_type": "markdown",
   "metadata": {},
   "source": [
    "### Extra Credit for Question 9 and Question 10 were completed."
   ]
  },
  {
   "cell_type": "markdown",
   "metadata": {},
   "source": [
    "# Qustion 1: (10 pts)\n",
    "Read tweets.csv into a spark dataframe named `tweets_df`.  Solutions that do not use `get_training_filename` will be heavily penalized.  Drop all columns except target and text.  Transform the target column such that a negative sentiment is equal to 0 and a positive sentiment is equal to 1.  Determine and print the percentage of positive and negative tweets in the dataframe such that it's easy for the graders to find and interpret your data."
   ]
  },
  {
   "cell_type": "code",
   "execution_count": 2,
   "metadata": {
    "scrolled": true
   },
   "outputs": [
    {
     "name": "stdout",
     "output_type": "stream",
     "text": [
      "+------+-----+----------+\n",
      "|target|count|percentage|\n",
      "+------+-----+----------+\n",
      "|     1|50000|       0.5|\n",
      "|     0|50000|       0.5|\n",
      "+------+-----+----------+\n",
      "\n"
     ]
    }
   ],
   "source": [
    "# Your code here\n",
    "from pyspark.sql.functions import when, count, col\n",
    "\n",
    "tweets_df = spark.read.format(\"csv\").option(\"header\", \"true\").option(\"inferSchema\", \"true\").load(get_training_filename(\"tweets.csv\"))\n",
    "# get rid of the first column, which is the index of each row\n",
    "drop_col = [\"id\", \"date\", \"flag\", \"user\"]\n",
    "tweets_df = tweets_df.drop(*drop_col)\n",
    "\n",
    "# transform the 4's to 1 and remaining to 0 \n",
    "logic_pos = (tweets_df['target'] == 4)\n",
    "tweets_df = tweets_df.withColumn(\"target\", when(logic_pos == True, 1).otherwise(0))\n",
    "\n",
    "percentage_df = tweets_df.groupBy('target').count()\n",
    "percentage_df.withColumn('percentage', percentage_df['count'] / tweets_df.count()).show()"
   ]
  },
  {
   "cell_type": "code",
   "execution_count": 3,
   "metadata": {
    "scrolled": true
   },
   "outputs": [
    {
     "data": {
      "text/html": [
       "<div>\n",
       "<style scoped>\n",
       "    .dataframe tbody tr th:only-of-type {\n",
       "        vertical-align: middle;\n",
       "    }\n",
       "\n",
       "    .dataframe tbody tr th {\n",
       "        vertical-align: top;\n",
       "    }\n",
       "\n",
       "    .dataframe thead th {\n",
       "        text-align: right;\n",
       "    }\n",
       "</style>\n",
       "<table border=\"1\" class=\"dataframe\">\n",
       "  <thead>\n",
       "    <tr style=\"text-align: right;\">\n",
       "      <th></th>\n",
       "      <th>target</th>\n",
       "      <th>text</th>\n",
       "    </tr>\n",
       "  </thead>\n",
       "  <tbody>\n",
       "    <tr>\n",
       "      <th>0</th>\n",
       "      <td>1</td>\n",
       "      <td>I LOVE @Health4UandPets u guys r the best!!</td>\n",
       "    </tr>\n",
       "    <tr>\n",
       "      <th>1</th>\n",
       "      <td>1</td>\n",
       "      <td>im meeting up with one of my besties tonight! ...</td>\n",
       "    </tr>\n",
       "    <tr>\n",
       "      <th>2</th>\n",
       "      <td>1</td>\n",
       "      <td>@DaRealSunisaKim Thanks for the Twitter add, S...</td>\n",
       "    </tr>\n",
       "    <tr>\n",
       "      <th>3</th>\n",
       "      <td>1</td>\n",
       "      <td>Being sick can be really cheap when it hurts t...</td>\n",
       "    </tr>\n",
       "    <tr>\n",
       "      <th>4</th>\n",
       "      <td>1</td>\n",
       "      <td>@LovesBrooklyn2 he has that effect on everyone</td>\n",
       "    </tr>\n",
       "  </tbody>\n",
       "</table>\n",
       "</div>"
      ],
      "text/plain": [
       "   target                                               text\n",
       "0       1       I LOVE @Health4UandPets u guys r the best!! \n",
       "1       1  im meeting up with one of my besties tonight! ...\n",
       "2       1  @DaRealSunisaKim Thanks for the Twitter add, S...\n",
       "3       1  Being sick can be really cheap when it hurts t...\n",
       "4       1    @LovesBrooklyn2 he has that effect on everyone "
      ]
     },
     "metadata": {},
     "output_type": "display_data"
    },
    {
     "name": "stdout",
     "output_type": "stream",
     "text": [
      "(100000, 2)\n"
     ]
    }
   ],
   "source": [
    "# grading cell do not modify\n",
    "tweets_pd = tweets_df.toPandas()\n",
    "display(tweets_pd.head())\n",
    "print(tweets_pd.shape)"
   ]
  },
  {
   "cell_type": "markdown",
   "metadata": {},
   "source": [
    "##### Grading Feedback Cell"
   ]
  },
  {
   "cell_type": "markdown",
   "metadata": {},
   "source": [
    "# Question 2: (10 pts)\n",
    "Pre-process the data by creating a pipeline named `tweets_pre_proc_pipe`. Your pipeline should tokenize, remove stop words, and do a TF-IDF transformation.  Fit and execute your pipeline, and create a new dataframe named `tweets_pre_proc_df`.  Print the shape of the resulting TF-IDF data such that it's easy for the graders to find and understand as num rows x num words. Based on the shape of the TF-IDF data, would you expect a logistic regression model to overfit?"
   ]
  },
  {
   "cell_type": "code",
   "execution_count": 4,
   "metadata": {},
   "outputs": [
    {
     "name": "stdout",
     "output_type": "stream",
     "text": [
      "num of rows: 100000 X num of features: 144214\n"
     ]
    }
   ],
   "source": [
    "# your code here\n",
    "import requests\n",
    "from pyspark.ml import Pipeline\n",
    "from pyspark.ml.feature import IDF, Tokenizer, CountVectorizer, StopWordsRemover\n",
    "\n",
    "# obtain the stop words from a website\n",
    "stop_words = requests.get('http://ir.dcs.gla.ac.uk/resources/linguistic_utils/stop_words').text.split()\n",
    "\n",
    "# set filter to remove stopwords\n",
    "tk = Tokenizer().setInputCol('text').setOutputCol('words')\n",
    "sw = StopWordsRemover().setStopWords(stop_words).setCaseSensitive(False).setInputCol(\"words\").setOutputCol(\"filtered\")\n",
    "cv = CountVectorizer().setInputCol(\"filtered\").setOutputCol(\"tf\")\n",
    "idf = IDF().setInputCol('tf').setOutputCol('tfidf')\n",
    "\n",
    "tweets_pre_proc_pipe = Pipeline(stages=[tk, sw, cv, idf])\n",
    "tweets_pre_proc_df = tweets_pre_proc_pipe.fit(tweets_df).transform(tweets_df)\n",
    "\n",
    "fitted = tweets_pre_proc_pipe.fit(tweets_df)\n",
    "# print shape of tfidf data\n",
    "print(\"num of rows:\", fitted.stages[-1].numDocs, \"X num of features:\", len(fitted.stages[-2].vocabulary))"
   ]
  },
  {
   "cell_type": "code",
   "execution_count": 5,
   "metadata": {},
   "outputs": [
    {
     "data": {
      "text/html": [
       "<div>\n",
       "<style scoped>\n",
       "    .dataframe tbody tr th:only-of-type {\n",
       "        vertical-align: middle;\n",
       "    }\n",
       "\n",
       "    .dataframe tbody tr th {\n",
       "        vertical-align: top;\n",
       "    }\n",
       "\n",
       "    .dataframe thead th {\n",
       "        text-align: right;\n",
       "    }\n",
       "</style>\n",
       "<table border=\"1\" class=\"dataframe\">\n",
       "  <thead>\n",
       "    <tr style=\"text-align: right;\">\n",
       "      <th></th>\n",
       "      <th>target</th>\n",
       "      <th>text</th>\n",
       "      <th>words</th>\n",
       "      <th>filtered</th>\n",
       "      <th>tf</th>\n",
       "      <th>tfidf</th>\n",
       "    </tr>\n",
       "  </thead>\n",
       "  <tbody>\n",
       "    <tr>\n",
       "      <th>0</th>\n",
       "      <td>1</td>\n",
       "      <td>I LOVE @Health4UandPets u guys r the best!!</td>\n",
       "      <td>[i, love, @health4uandpets, u, guys, r, the, b...</td>\n",
       "      <td>[love, @health4uandpets, u, guys, r, best!!]</td>\n",
       "      <td>(0.0, 0.0, 0.0, 0.0, 0.0, 0.0, 0.0, 0.0, 0.0, ...</td>\n",
       "      <td>(0.0, 0.0, 0.0, 0.0, 0.0, 0.0, 0.0, 0.0, 0.0, ...</td>\n",
       "    </tr>\n",
       "    <tr>\n",
       "      <th>1</th>\n",
       "      <td>1</td>\n",
       "      <td>im meeting up with one of my besties tonight! ...</td>\n",
       "      <td>[im, meeting, up, with, one, of, my, besties, ...</td>\n",
       "      <td>[im, meeting, besties, tonight!, wait!!, , -, ...</td>\n",
       "      <td>(1.0, 0.0, 0.0, 0.0, 0.0, 1.0, 0.0, 0.0, 0.0, ...</td>\n",
       "      <td>(1.1265280578718189, 0.0, 0.0, 0.0, 0.0, 3.183...</td>\n",
       "    </tr>\n",
       "    <tr>\n",
       "      <th>2</th>\n",
       "      <td>1</td>\n",
       "      <td>@DaRealSunisaKim Thanks for the Twitter add, S...</td>\n",
       "      <td>[@darealsunisakim, thanks, for, the, twitter, ...</td>\n",
       "      <td>[@darealsunisakim, thanks, twitter, add,, suni...</td>\n",
       "      <td>(0.0, 0.0, 0.0, 0.0, 0.0, 0.0, 0.0, 0.0, 0.0, ...</td>\n",
       "      <td>(0.0, 0.0, 0.0, 0.0, 0.0, 0.0, 0.0, 0.0, 0.0, ...</td>\n",
       "    </tr>\n",
       "    <tr>\n",
       "      <th>3</th>\n",
       "      <td>1</td>\n",
       "      <td>Being sick can be really cheap when it hurts t...</td>\n",
       "      <td>[being, sick, can, be, really, cheap, when, it...</td>\n",
       "      <td>[sick, really, cheap, hurts, eat, real, food, ...</td>\n",
       "      <td>(1.0, 0.0, 0.0, 0.0, 0.0, 0.0, 0.0, 0.0, 0.0, ...</td>\n",
       "      <td>(1.1265280578718189, 0.0, 0.0, 0.0, 0.0, 0.0, ...</td>\n",
       "    </tr>\n",
       "    <tr>\n",
       "      <th>4</th>\n",
       "      <td>1</td>\n",
       "      <td>@LovesBrooklyn2 he has that effect on everyone</td>\n",
       "      <td>[@lovesbrooklyn2, he, has, that, effect, on, e...</td>\n",
       "      <td>[@lovesbrooklyn2, effect]</td>\n",
       "      <td>(0.0, 0.0, 0.0, 0.0, 0.0, 0.0, 0.0, 0.0, 0.0, ...</td>\n",
       "      <td>(0.0, 0.0, 0.0, 0.0, 0.0, 0.0, 0.0, 0.0, 0.0, ...</td>\n",
       "    </tr>\n",
       "  </tbody>\n",
       "</table>\n",
       "</div>"
      ],
      "text/plain": [
       "   target                                               text  \\\n",
       "0       1       I LOVE @Health4UandPets u guys r the best!!    \n",
       "1       1  im meeting up with one of my besties tonight! ...   \n",
       "2       1  @DaRealSunisaKim Thanks for the Twitter add, S...   \n",
       "3       1  Being sick can be really cheap when it hurts t...   \n",
       "4       1    @LovesBrooklyn2 he has that effect on everyone    \n",
       "\n",
       "                                               words  \\\n",
       "0  [i, love, @health4uandpets, u, guys, r, the, b...   \n",
       "1  [im, meeting, up, with, one, of, my, besties, ...   \n",
       "2  [@darealsunisakim, thanks, for, the, twitter, ...   \n",
       "3  [being, sick, can, be, really, cheap, when, it...   \n",
       "4  [@lovesbrooklyn2, he, has, that, effect, on, e...   \n",
       "\n",
       "                                            filtered  \\\n",
       "0       [love, @health4uandpets, u, guys, r, best!!]   \n",
       "1  [im, meeting, besties, tonight!, wait!!, , -, ...   \n",
       "2  [@darealsunisakim, thanks, twitter, add,, suni...   \n",
       "3  [sick, really, cheap, hurts, eat, real, food, ...   \n",
       "4                          [@lovesbrooklyn2, effect]   \n",
       "\n",
       "                                                  tf  \\\n",
       "0  (0.0, 0.0, 0.0, 0.0, 0.0, 0.0, 0.0, 0.0, 0.0, ...   \n",
       "1  (1.0, 0.0, 0.0, 0.0, 0.0, 1.0, 0.0, 0.0, 0.0, ...   \n",
       "2  (0.0, 0.0, 0.0, 0.0, 0.0, 0.0, 0.0, 0.0, 0.0, ...   \n",
       "3  (1.0, 0.0, 0.0, 0.0, 0.0, 0.0, 0.0, 0.0, 0.0, ...   \n",
       "4  (0.0, 0.0, 0.0, 0.0, 0.0, 0.0, 0.0, 0.0, 0.0, ...   \n",
       "\n",
       "                                               tfidf  \n",
       "0  (0.0, 0.0, 0.0, 0.0, 0.0, 0.0, 0.0, 0.0, 0.0, ...  \n",
       "1  (1.1265280578718189, 0.0, 0.0, 0.0, 0.0, 3.183...  \n",
       "2  (0.0, 0.0, 0.0, 0.0, 0.0, 0.0, 0.0, 0.0, 0.0, ...  \n",
       "3  (1.1265280578718189, 0.0, 0.0, 0.0, 0.0, 0.0, ...  \n",
       "4  (0.0, 0.0, 0.0, 0.0, 0.0, 0.0, 0.0, 0.0, 0.0, ...  "
      ]
     },
     "metadata": {},
     "output_type": "display_data"
    }
   ],
   "source": [
    "# grading cell do not modify\n",
    "display(tweets_pre_proc_df.toPandas().head())"
   ]
  },
  {
   "cell_type": "markdown",
   "metadata": {},
   "source": [
    "Your explanation here: <br>\n",
    "The number of rows is 100,000 while the number of features is 144,214. Obviously, the number of features is higher than that of rows, indicating that overfitting might occur. However, it is generally not the number of features itself that will decide if the model have been overfitted or not but rather the method used to train the model with. Nevertheless, overfitting is more prone to happen if the data is sparse. Therefore, it is possible that overfitting might happend in logistic regression model. <br>\n",
    "In conclusion, if we have too many features (or the so-called high dimentionality), the learned model will try to find the decision boundary to fit the training data set well but it fails to generalize to make the accurate predictions on new dataset."
   ]
  },
  {
   "cell_type": "markdown",
   "metadata": {},
   "source": [
    "##### Grading Feedback Cell"
   ]
  },
  {
   "cell_type": "markdown",
   "metadata": {},
   "source": [
    "# Question 3: (10 pts)\n",
    "Since IDF considers a word's frequency across all documents in a corpus, you can use IDF as a form of inference.  Examine the documentation for the spark ML object that you used to create TF-IDF scores and learn how to extract the IDF scores for words in the corpus.  Create a pandas dataframe containing the 5 most important IDF scores named `most_imp_idf`.  Create another pandas dataframe containing the 5 least important IDF scores named `least_imp_idf`.  Each dataframe shall have 2 columns named `word` and `idf_score`.  Explain in words your interpretation of what the IDF scores mean."
   ]
  },
  {
   "cell_type": "code",
   "execution_count": 6,
   "metadata": {
    "scrolled": true
   },
   "outputs": [],
   "source": [
    "# your code here\n",
    "import pandas as pd\n",
    "from pyspark.sql import functions as fn, Row\n",
    "\n",
    "# get the idf value\n",
    "idf_list = tweets_pre_proc_pipe.fit(tweets_df).stages[3].idf\n",
    "voc = tweets_pre_proc_pipe.fit(tweets_df).stages[2].vocabulary\n",
    "\n",
    "tf_idf = pd.DataFrame({'idf_score': idf_list.toArray(), 'word': voc}).sort_values('idf_score', ascending = False)\n",
    "least_imp_idf = tf_idf[-5:]\n",
    "most_imp_idf = tf_idf.loc[tf_idf['idf_score'] > 10.8197]"
   ]
  },
  {
   "cell_type": "code",
   "execution_count": 7,
   "metadata": {
    "scrolled": false
   },
   "outputs": [
    {
     "data": {
      "text/html": [
       "<div>\n",
       "<style scoped>\n",
       "    .dataframe tbody tr th:only-of-type {\n",
       "        vertical-align: middle;\n",
       "    }\n",
       "\n",
       "    .dataframe tbody tr th {\n",
       "        vertical-align: top;\n",
       "    }\n",
       "\n",
       "    .dataframe thead th {\n",
       "        text-align: right;\n",
       "    }\n",
       "</style>\n",
       "<table border=\"1\" class=\"dataframe\">\n",
       "  <thead>\n",
       "    <tr style=\"text-align: right;\">\n",
       "      <th></th>\n",
       "      <th>idf_score</th>\n",
       "      <th>word</th>\n",
       "    </tr>\n",
       "  </thead>\n",
       "  <tbody>\n",
       "    <tr>\n",
       "      <th>72107</th>\n",
       "      <td>10.819788</td>\n",
       "      <td>tickest</td>\n",
       "    </tr>\n",
       "    <tr>\n",
       "      <th>96147</th>\n",
       "      <td>10.819788</td>\n",
       "      <td>http://tweetstats.com</td>\n",
       "    </tr>\n",
       "    <tr>\n",
       "      <th>96141</th>\n",
       "      <td>10.819788</td>\n",
       "      <td>provoost</td>\n",
       "    </tr>\n",
       "    <tr>\n",
       "      <th>96142</th>\n",
       "      <td>10.819788</td>\n",
       "      <td>together??..</td>\n",
       "    </tr>\n",
       "    <tr>\n",
       "      <th>96143</th>\n",
       "      <td>10.819788</td>\n",
       "      <td>bioluminescent</td>\n",
       "    </tr>\n",
       "    <tr>\n",
       "      <th>96144</th>\n",
       "      <td>10.819788</td>\n",
       "      <td>requirement.</td>\n",
       "    </tr>\n",
       "    <tr>\n",
       "      <th>96145</th>\n",
       "      <td>10.819788</td>\n",
       "      <td>charlotte?</td>\n",
       "    </tr>\n",
       "    <tr>\n",
       "      <th>96146</th>\n",
       "      <td>10.819788</td>\n",
       "      <td>stuff..scary.</td>\n",
       "    </tr>\n",
       "    <tr>\n",
       "      <th>96148</th>\n",
       "      <td>10.819788</td>\n",
       "      <td>@targuman</td>\n",
       "    </tr>\n",
       "    <tr>\n",
       "      <th>96139</th>\n",
       "      <td>10.819788</td>\n",
       "      <td>@team26racing</td>\n",
       "    </tr>\n",
       "    <tr>\n",
       "      <th>96149</th>\n",
       "      <td>10.819788</td>\n",
       "      <td>thought?</td>\n",
       "    </tr>\n",
       "    <tr>\n",
       "      <th>96150</th>\n",
       "      <td>10.819788</td>\n",
       "      <td>noooooooooooo</td>\n",
       "    </tr>\n",
       "    <tr>\n",
       "      <th>96151</th>\n",
       "      <td>10.819788</td>\n",
       "      <td>http://bit.ly/abxtk</td>\n",
       "    </tr>\n",
       "    <tr>\n",
       "      <th>96152</th>\n",
       "      <td>10.819788</td>\n",
       "      <td>.oh</td>\n",
       "    </tr>\n",
       "    <tr>\n",
       "      <th>96153</th>\n",
       "      <td>10.819788</td>\n",
       "      <td>@susie_santi</td>\n",
       "    </tr>\n",
       "    <tr>\n",
       "      <th>96154</th>\n",
       "      <td>10.819788</td>\n",
       "      <td>@itslindsaylohan</td>\n",
       "    </tr>\n",
       "    <tr>\n",
       "      <th>96140</th>\n",
       "      <td>10.819788</td>\n",
       "      <td>divine!!</td>\n",
       "    </tr>\n",
       "    <tr>\n",
       "      <th>96138</th>\n",
       "      <td>10.819788</td>\n",
       "      <td>like*</td>\n",
       "    </tr>\n",
       "    <tr>\n",
       "      <th>96191</th>\n",
       "      <td>10.819788</td>\n",
       "      <td>am;</td>\n",
       "    </tr>\n",
       "    <tr>\n",
       "      <th>96129</th>\n",
       "      <td>10.819788</td>\n",
       "      <td>31st.</td>\n",
       "    </tr>\n",
       "    <tr>\n",
       "      <th>96123</th>\n",
       "      <td>10.819788</td>\n",
       "      <td>unacceptable.</td>\n",
       "    </tr>\n",
       "    <tr>\n",
       "      <th>96124</th>\n",
       "      <td>10.819788</td>\n",
       "      <td>there'.</td>\n",
       "    </tr>\n",
       "    <tr>\n",
       "      <th>96125</th>\n",
       "      <td>10.819788</td>\n",
       "      <td>princes</td>\n",
       "    </tr>\n",
       "    <tr>\n",
       "      <th>96126</th>\n",
       "      <td>10.819788</td>\n",
       "      <td>own3d</td>\n",
       "    </tr>\n",
       "    <tr>\n",
       "      <th>96127</th>\n",
       "      <td>10.819788</td>\n",
       "      <td>@cottoncandizzle</td>\n",
       "    </tr>\n",
       "    <tr>\n",
       "      <th>96128</th>\n",
       "      <td>10.819788</td>\n",
       "      <td>delegating</td>\n",
       "    </tr>\n",
       "    <tr>\n",
       "      <th>96130</th>\n",
       "      <td>10.819788</td>\n",
       "      <td>balamory,</td>\n",
       "    </tr>\n",
       "    <tr>\n",
       "      <th>96137</th>\n",
       "      <td>10.819788</td>\n",
       "      <td>mag-update</td>\n",
       "    </tr>\n",
       "    <tr>\n",
       "      <th>96131</th>\n",
       "      <td>10.819788</td>\n",
       "      <td>http://tinyurl.com/c2j86u</td>\n",
       "    </tr>\n",
       "    <tr>\n",
       "      <th>96132</th>\n",
       "      <td>10.819788</td>\n",
       "      <td>@nickmccabe</td>\n",
       "    </tr>\n",
       "    <tr>\n",
       "      <th>...</th>\n",
       "      <td>...</td>\n",
       "      <td>...</td>\n",
       "    </tr>\n",
       "    <tr>\n",
       "      <th>60813</th>\n",
       "      <td>10.819788</td>\n",
       "      <td>tweeted....lol....then</td>\n",
       "    </tr>\n",
       "    <tr>\n",
       "      <th>60814</th>\n",
       "      <td>10.819788</td>\n",
       "      <td>@capebretoner</td>\n",
       "    </tr>\n",
       "    <tr>\n",
       "      <th>60804</th>\n",
       "      <td>10.819788</td>\n",
       "      <td>5...blah</td>\n",
       "    </tr>\n",
       "    <tr>\n",
       "      <th>60833</th>\n",
       "      <td>10.819788</td>\n",
       "      <td>chappy</td>\n",
       "    </tr>\n",
       "    <tr>\n",
       "      <th>60823</th>\n",
       "      <td>10.819788</td>\n",
       "      <td>@dantennant</td>\n",
       "    </tr>\n",
       "    <tr>\n",
       "      <th>60822</th>\n",
       "      <td>10.819788</td>\n",
       "      <td>repairing</td>\n",
       "    </tr>\n",
       "    <tr>\n",
       "      <th>60821</th>\n",
       "      <td>10.819788</td>\n",
       "      <td>@linalovesjb</td>\n",
       "    </tr>\n",
       "    <tr>\n",
       "      <th>60825</th>\n",
       "      <td>10.819788</td>\n",
       "      <td>@rochvergara</td>\n",
       "    </tr>\n",
       "    <tr>\n",
       "      <th>60826</th>\n",
       "      <td>10.819788</td>\n",
       "      <td>@bigdrewtv</td>\n",
       "    </tr>\n",
       "    <tr>\n",
       "      <th>60820</th>\n",
       "      <td>10.819788</td>\n",
       "      <td>bbf</td>\n",
       "    </tr>\n",
       "    <tr>\n",
       "      <th>60827</th>\n",
       "      <td>10.819788</td>\n",
       "      <td>followers&amp;gt;#following,</td>\n",
       "    </tr>\n",
       "    <tr>\n",
       "      <th>60828</th>\n",
       "      <td>10.819788</td>\n",
       "      <td>4.8</td>\n",
       "    </tr>\n",
       "    <tr>\n",
       "      <th>60819</th>\n",
       "      <td>10.819788</td>\n",
       "      <td>(scared)</td>\n",
       "    </tr>\n",
       "    <tr>\n",
       "      <th>60829</th>\n",
       "      <td>10.819788</td>\n",
       "      <td>fairview</td>\n",
       "    </tr>\n",
       "    <tr>\n",
       "      <th>60830</th>\n",
       "      <td>10.819788</td>\n",
       "      <td>scanners.</td>\n",
       "    </tr>\n",
       "    <tr>\n",
       "      <th>60818</th>\n",
       "      <td>10.819788</td>\n",
       "      <td>holming</td>\n",
       "    </tr>\n",
       "    <tr>\n",
       "      <th>60817</th>\n",
       "      <td>10.819788</td>\n",
       "      <td>@geewhy</td>\n",
       "    </tr>\n",
       "    <tr>\n",
       "      <th>60831</th>\n",
       "      <td>10.819788</td>\n",
       "      <td>&amp;quot;le</td>\n",
       "    </tr>\n",
       "    <tr>\n",
       "      <th>60832</th>\n",
       "      <td>10.819788</td>\n",
       "      <td>&amp;quot;urban</td>\n",
       "    </tr>\n",
       "    <tr>\n",
       "      <th>60816</th>\n",
       "      <td>10.819788</td>\n",
       "      <td>night...how</td>\n",
       "    </tr>\n",
       "    <tr>\n",
       "      <th>60815</th>\n",
       "      <td>10.819788</td>\n",
       "      <td>http://is.gd/tfm0</td>\n",
       "    </tr>\n",
       "    <tr>\n",
       "      <th>60844</th>\n",
       "      <td>10.819788</td>\n",
       "      <td>cellphone...</td>\n",
       "    </tr>\n",
       "    <tr>\n",
       "      <th>60824</th>\n",
       "      <td>10.819788</td>\n",
       "      <td>ï¿½253.61</td>\n",
       "    </tr>\n",
       "    <tr>\n",
       "      <th>60803</th>\n",
       "      <td>10.819788</td>\n",
       "      <td>vent.</td>\n",
       "    </tr>\n",
       "    <tr>\n",
       "      <th>60799</th>\n",
       "      <td>10.819788</td>\n",
       "      <td>dftba</td>\n",
       "    </tr>\n",
       "    <tr>\n",
       "      <th>60845</th>\n",
       "      <td>10.819788</td>\n",
       "      <td>@alipasha</td>\n",
       "    </tr>\n",
       "    <tr>\n",
       "      <th>60798</th>\n",
       "      <td>10.819788</td>\n",
       "      <td>plez.</td>\n",
       "    </tr>\n",
       "    <tr>\n",
       "      <th>60800</th>\n",
       "      <td>10.819788</td>\n",
       "      <td>@jthomsonx</td>\n",
       "    </tr>\n",
       "    <tr>\n",
       "      <th>60802</th>\n",
       "      <td>10.819788</td>\n",
       "      <td>@sheridanzig</td>\n",
       "    </tr>\n",
       "    <tr>\n",
       "      <th>60801</th>\n",
       "      <td>10.819788</td>\n",
       "      <td>http://twitpic.com/3kwn6</td>\n",
       "    </tr>\n",
       "  </tbody>\n",
       "</table>\n",
       "<p>105854 rows × 2 columns</p>\n",
       "</div>"
      ],
      "text/plain": [
       "       idf_score                       word\n",
       "72107  10.819788                    tickest\n",
       "96147  10.819788      http://tweetstats.com\n",
       "96141  10.819788                   provoost\n",
       "96142  10.819788               together??..\n",
       "96143  10.819788             bioluminescent\n",
       "96144  10.819788               requirement.\n",
       "96145  10.819788                 charlotte?\n",
       "96146  10.819788              stuff..scary.\n",
       "96148  10.819788                  @targuman\n",
       "96139  10.819788              @team26racing\n",
       "96149  10.819788                   thought?\n",
       "96150  10.819788              noooooooooooo\n",
       "96151  10.819788        http://bit.ly/abxtk\n",
       "96152  10.819788                        .oh\n",
       "96153  10.819788               @susie_santi\n",
       "96154  10.819788           @itslindsaylohan\n",
       "96140  10.819788                   divine!!\n",
       "96138  10.819788                      like*\n",
       "96191  10.819788                        am;\n",
       "96129  10.819788                      31st.\n",
       "96123  10.819788              unacceptable.\n",
       "96124  10.819788                    there'.\n",
       "96125  10.819788                    princes\n",
       "96126  10.819788                      own3d\n",
       "96127  10.819788           @cottoncandizzle\n",
       "96128  10.819788                 delegating\n",
       "96130  10.819788                  balamory,\n",
       "96137  10.819788                 mag-update\n",
       "96131  10.819788  http://tinyurl.com/c2j86u\n",
       "96132  10.819788                @nickmccabe\n",
       "...          ...                        ...\n",
       "60813  10.819788     tweeted....lol....then\n",
       "60814  10.819788              @capebretoner\n",
       "60804  10.819788                   5...blah\n",
       "60833  10.819788                     chappy\n",
       "60823  10.819788                @dantennant\n",
       "60822  10.819788                  repairing\n",
       "60821  10.819788               @linalovesjb\n",
       "60825  10.819788               @rochvergara\n",
       "60826  10.819788                 @bigdrewtv\n",
       "60820  10.819788                        bbf\n",
       "60827  10.819788   followers&gt;#following,\n",
       "60828  10.819788                        4.8\n",
       "60819  10.819788                   (scared)\n",
       "60829  10.819788                   fairview\n",
       "60830  10.819788                  scanners.\n",
       "60818  10.819788                    holming\n",
       "60817  10.819788                    @geewhy\n",
       "60831  10.819788                   &quot;le\n",
       "60832  10.819788                &quot;urban\n",
       "60816  10.819788                night...how\n",
       "60815  10.819788          http://is.gd/tfm0\n",
       "60844  10.819788               cellphone...\n",
       "60824  10.819788                  ï¿½253.61\n",
       "60803  10.819788                      vent.\n",
       "60799  10.819788                      dftba\n",
       "60845  10.819788                  @alipasha\n",
       "60798  10.819788                      plez.\n",
       "60800  10.819788                 @jthomsonx\n",
       "60802  10.819788               @sheridanzig\n",
       "60801  10.819788   http://twitpic.com/3kwn6\n",
       "\n",
       "[105854 rows x 2 columns]"
      ]
     },
     "metadata": {},
     "output_type": "display_data"
    },
    {
     "data": {
      "text/html": [
       "<div>\n",
       "<style scoped>\n",
       "    .dataframe tbody tr th:only-of-type {\n",
       "        vertical-align: middle;\n",
       "    }\n",
       "\n",
       "    .dataframe tbody tr th {\n",
       "        vertical-align: top;\n",
       "    }\n",
       "\n",
       "    .dataframe thead th {\n",
       "        text-align: right;\n",
       "    }\n",
       "</style>\n",
       "<table border=\"1\" class=\"dataframe\">\n",
       "  <thead>\n",
       "    <tr style=\"text-align: right;\">\n",
       "      <th></th>\n",
       "      <th>idf_score</th>\n",
       "      <th>word</th>\n",
       "    </tr>\n",
       "  </thead>\n",
       "  <tbody>\n",
       "    <tr>\n",
       "      <th>4</th>\n",
       "      <td>3.113850</td>\n",
       "      <td>like</td>\n",
       "    </tr>\n",
       "    <tr>\n",
       "      <th>3</th>\n",
       "      <td>3.015945</td>\n",
       "      <td>good</td>\n",
       "    </tr>\n",
       "    <tr>\n",
       "      <th>2</th>\n",
       "      <td>2.645649</td>\n",
       "      <td>i'm</td>\n",
       "    </tr>\n",
       "    <tr>\n",
       "      <th>1</th>\n",
       "      <td>2.588812</td>\n",
       "      <td>just</td>\n",
       "    </tr>\n",
       "    <tr>\n",
       "      <th>0</th>\n",
       "      <td>1.126528</td>\n",
       "      <td></td>\n",
       "    </tr>\n",
       "  </tbody>\n",
       "</table>\n",
       "</div>"
      ],
      "text/plain": [
       "   idf_score  word\n",
       "4   3.113850  like\n",
       "3   3.015945  good\n",
       "2   2.645649   i'm\n",
       "1   2.588812  just\n",
       "0   1.126528      "
      ]
     },
     "metadata": {},
     "output_type": "display_data"
    }
   ],
   "source": [
    "# grading cell do not modify\n",
    "display(most_imp_idf)\n",
    "display(least_imp_idf)"
   ]
  },
  {
   "cell_type": "markdown",
   "metadata": {},
   "source": [
    "Your explanation here: <br>\n",
    "IDF, which is the abbreviation of Inverse Document Frequency, is used to measure how important a term is. Since tf perceive all the terms equally are important, one cannot only use term frequencies to calculate the weight of a term in the document. Therefore, one can weigh down the frequent terms while scaling up the rare ones. Namely, the terms with higher weight scores are considered to be more important. However, in this case, given that some words only appeared once in the document, the idf score is considerably high for those words while most of those words convey little information."
   ]
  },
  {
   "cell_type": "markdown",
   "metadata": {},
   "source": [
    "##### Grading Feedback Cell"
   ]
  },
  {
   "cell_type": "markdown",
   "metadata": {},
   "source": [
    "# Question 4: (10 pts)\n",
    "Create a new recursive pipeline named `lr_pipe` which starts with `tweets_pre_proc_pipe` and adds a logistic regression model using default hyper parameters.  Fit lr_pipe using `tweets_df`.  Score the model using ROC AUC.  Report the resulting AUC such that it is easy for graders to find and interpret."
   ]
  },
  {
   "cell_type": "code",
   "execution_count": 8,
   "metadata": {},
   "outputs": [
    {
     "name": "stdout",
     "output_type": "stream",
     "text": [
      "Area under ROC Curve: 0.7146\n"
     ]
    }
   ],
   "source": [
    "# your code here\n",
    "from pyspark.ml.classification import LogisticRegression\n",
    "from pyspark.ml.evaluation import BinaryClassificationEvaluator\n",
    "\n",
    "train, test = tweets_df.randomSplit([0.7, 0.3], 0)\n",
    "\n",
    "lr = LogisticRegression().setLabelCol('target').setFeaturesCol('tfidf')\n",
    "lr_pipe = Pipeline(stages=[tweets_pre_proc_pipe, lr])\n",
    "prediction = lr_pipe.fit(train).transform(test)\n",
    "\n",
    "evaluator = BinaryClassificationEvaluator(labelCol=lr.getLabelCol(), rawPredictionCol=lr.getRawPredictionCol())\n",
    "auroc = evaluator.evaluate(prediction, {evaluator.metricName: \"areaUnderROC\"})\n",
    "print(\"Area under ROC Curve: {:.4f}\".format(auroc))"
   ]
  },
  {
   "cell_type": "markdown",
   "metadata": {},
   "source": [
    "##### Grading Feedback Cell"
   ]
  },
  {
   "cell_type": "markdown",
   "metadata": {},
   "source": [
    "# Question 5: (10 pts)\n",
    "Create 2 pandas dataframes named `lr_pipe_df_neg` and `lr_pipe_df_pos`which contain 2 colunms: `word` and `score`.  Load the 2 dataframes with the top 10 words and logistic regression coefficients that contribute the most to negative and positive sentiments respectively. Analyze the 2 dataframes and describe if the words make sense.  Do the words look like they are really negative and positive?"
   ]
  },
  {
   "cell_type": "code",
   "execution_count": 9,
   "metadata": {},
   "outputs": [],
   "source": [
    "# your code here\n",
    "fitted_lr_pipe = lr_pipe.fit(train)\n",
    "vocabulary = fitted_lr_pipe.stages[0].stages[2].vocabulary\n",
    "score = fitted_lr_pipe.stages[-1].coefficients.toArray()\n",
    "\n",
    "lr_pipe_df = pd.DataFrame({'word': vocabulary, 'score': score}).sort_values('score', ascending = False)\n",
    "lr_pipe_df_pos = lr_pipe_df[:10]\n",
    "lr_pipe_df_neg = lr_pipe_df[-10:]"
   ]
  },
  {
   "cell_type": "code",
   "execution_count": 10,
   "metadata": {},
   "outputs": [
    {
     "data": {
      "text/html": [
       "<div>\n",
       "<style scoped>\n",
       "    .dataframe tbody tr th:only-of-type {\n",
       "        vertical-align: middle;\n",
       "    }\n",
       "\n",
       "    .dataframe tbody tr th {\n",
       "        vertical-align: top;\n",
       "    }\n",
       "\n",
       "    .dataframe thead th {\n",
       "        text-align: right;\n",
       "    }\n",
       "</style>\n",
       "<table border=\"1\" class=\"dataframe\">\n",
       "  <thead>\n",
       "    <tr style=\"text-align: right;\">\n",
       "      <th></th>\n",
       "      <th>word</th>\n",
       "      <th>score</th>\n",
       "    </tr>\n",
       "  </thead>\n",
       "  <tbody>\n",
       "    <tr>\n",
       "      <th>102418</th>\n",
       "      <td>man..can't</td>\n",
       "      <td>-6.252497</td>\n",
       "    </tr>\n",
       "    <tr>\n",
       "      <th>106035</th>\n",
       "      <td>sketchersizing</td>\n",
       "      <td>-6.252671</td>\n",
       "    </tr>\n",
       "    <tr>\n",
       "      <th>75721</th>\n",
       "      <td>wait?!?!?!</td>\n",
       "      <td>-6.344733</td>\n",
       "    </tr>\n",
       "    <tr>\n",
       "      <th>55418</th>\n",
       "      <td>towers...</td>\n",
       "      <td>-6.420884</td>\n",
       "    </tr>\n",
       "    <tr>\n",
       "      <th>63135</th>\n",
       "      <td>guurl..</td>\n",
       "      <td>-6.460265</td>\n",
       "    </tr>\n",
       "    <tr>\n",
       "      <th>38828</th>\n",
       "      <td>@chelkface</td>\n",
       "      <td>-6.473253</td>\n",
       "    </tr>\n",
       "    <tr>\n",
       "      <th>57304</th>\n",
       "      <td>pointless.</td>\n",
       "      <td>-6.612166</td>\n",
       "    </tr>\n",
       "    <tr>\n",
       "      <th>77473</th>\n",
       "      <td>chelsee</td>\n",
       "      <td>-6.764122</td>\n",
       "    </tr>\n",
       "    <tr>\n",
       "      <th>8195</th>\n",
       "      <td>gig?</td>\n",
       "      <td>-6.976705</td>\n",
       "    </tr>\n",
       "    <tr>\n",
       "      <th>70976</th>\n",
       "      <td>plunger,never</td>\n",
       "      <td>-7.036870</td>\n",
       "    </tr>\n",
       "  </tbody>\n",
       "</table>\n",
       "</div>"
      ],
      "text/plain": [
       "                  word     score\n",
       "102418      man..can't -6.252497\n",
       "106035  sketchersizing -6.252671\n",
       "75721       wait?!?!?! -6.344733\n",
       "55418        towers... -6.420884\n",
       "63135          guurl.. -6.460265\n",
       "38828       @chelkface -6.473253\n",
       "57304       pointless. -6.612166\n",
       "77473          chelsee -6.764122\n",
       "8195              gig? -6.976705\n",
       "70976    plunger,never -7.036870"
      ]
     },
     "metadata": {},
     "output_type": "display_data"
    },
    {
     "data": {
      "text/html": [
       "<div>\n",
       "<style scoped>\n",
       "    .dataframe tbody tr th:only-of-type {\n",
       "        vertical-align: middle;\n",
       "    }\n",
       "\n",
       "    .dataframe tbody tr th {\n",
       "        vertical-align: top;\n",
       "    }\n",
       "\n",
       "    .dataframe thead th {\n",
       "        text-align: right;\n",
       "    }\n",
       "</style>\n",
       "<table border=\"1\" class=\"dataframe\">\n",
       "  <thead>\n",
       "    <tr style=\"text-align: right;\">\n",
       "      <th></th>\n",
       "      <th>word</th>\n",
       "      <th>score</th>\n",
       "    </tr>\n",
       "  </thead>\n",
       "  <tbody>\n",
       "    <tr>\n",
       "      <th>91707</th>\n",
       "      <td>@bitter_like_you</td>\n",
       "      <td>10.134811</td>\n",
       "    </tr>\n",
       "    <tr>\n",
       "      <th>53957</th>\n",
       "      <td>sstill</td>\n",
       "      <td>9.775935</td>\n",
       "    </tr>\n",
       "    <tr>\n",
       "      <th>110149</th>\n",
       "      <td>fast...oh</td>\n",
       "      <td>8.971023</td>\n",
       "    </tr>\n",
       "    <tr>\n",
       "      <th>91852</th>\n",
       "      <td>@jazavis</td>\n",
       "      <td>7.763052</td>\n",
       "    </tr>\n",
       "    <tr>\n",
       "      <th>20257</th>\n",
       "      <td>amesterdam</td>\n",
       "      <td>6.910309</td>\n",
       "    </tr>\n",
       "    <tr>\n",
       "      <th>46770</th>\n",
       "      <td>front!</td>\n",
       "      <td>6.908521</td>\n",
       "    </tr>\n",
       "    <tr>\n",
       "      <th>71523</th>\n",
       "      <td>warmth!!</td>\n",
       "      <td>6.709632</td>\n",
       "    </tr>\n",
       "    <tr>\n",
       "      <th>55695</th>\n",
       "      <td>probbaly</td>\n",
       "      <td>6.517547</td>\n",
       "    </tr>\n",
       "    <tr>\n",
       "      <th>8694</th>\n",
       "      <td>stop!</td>\n",
       "      <td>6.402478</td>\n",
       "    </tr>\n",
       "    <tr>\n",
       "      <th>91363</th>\n",
       "      <td>aaf</td>\n",
       "      <td>6.397224</td>\n",
       "    </tr>\n",
       "  </tbody>\n",
       "</table>\n",
       "</div>"
      ],
      "text/plain": [
       "                    word      score\n",
       "91707   @bitter_like_you  10.134811\n",
       "53957             sstill   9.775935\n",
       "110149         fast...oh   8.971023\n",
       "91852           @jazavis   7.763052\n",
       "20257         amesterdam   6.910309\n",
       "46770             front!   6.908521\n",
       "71523           warmth!!   6.709632\n",
       "55695           probbaly   6.517547\n",
       "8694               stop!   6.402478\n",
       "91363                aaf   6.397224"
      ]
     },
     "metadata": {},
     "output_type": "display_data"
    }
   ],
   "source": [
    "# grading cell - do not modify\n",
    "display(lr_pipe_df_neg)\n",
    "display(lr_pipe_df_pos)"
   ]
  },
  {
   "cell_type": "markdown",
   "metadata": {},
   "source": [
    "Your explanation here:<br>\n",
    "The two dataframes contain the negative or positive words with the corresponding score. The scores of positive words are all above 0 while those of negative words are all below 0. If we carefully analyze those words, one can find that those words do not look like very negative and positive. Most of them even don't make sense."
   ]
  },
  {
   "cell_type": "markdown",
   "metadata": {},
   "source": [
    "##### Grading Feedback Cell"
   ]
  },
  {
   "cell_type": "markdown",
   "metadata": {},
   "source": [
    "# Question 6a: (5 pts)\n",
    "The goal of this question is to try to improve the score from question 4 using a regularization grid search on a new pipeline named `lr_pipe_1`. lr_pipe_1 is the same as lr_pipe above but we would like you to create a new pipe for grading purposes only.  I'm not sure if it's possible to increase the score or not.  You will be graded on level of effort to increase the score in relation to other students in the class.  All of your grid search code should be inside the `if enable_grid` statement in the cell below.  The enable_grid boolean is set to true in a grading cell above.  If any of the grid search code executes outside of the if statement, you will not get full credit for the question.  We want the ability to turn off the grid search during grading.<br>"
   ]
  },
  {
   "cell_type": "code",
   "execution_count": 11,
   "metadata": {
    "scrolled": true
   },
   "outputs": [
    {
     "name": "stdout",
     "output_type": "stream",
     "text": [
      "0.8234022098771081\n"
     ]
    }
   ],
   "source": [
    "# your grid search (and only your grid search) code here\n",
    "from pyspark.ml.tuning import CrossValidator, ParamGridBuilder\n",
    "\n",
    "if enable_grid:\n",
    "    # your grid search code here\n",
    "    # elasticNetParam corresponds to α and regParam corresponds to λ\n",
    "    grid = ParamGridBuilder().addGrid(lr.elasticNetParam, [0.2, 0.1, 0.01, 0.001, 0]).addGrid(lr.regParam, [0., 0.01, 0.1]).build()\n",
    "    lr_pipe_1 = CrossValidator(estimator=lr_pipe, \n",
    "                               estimatorParamMaps=grid, \n",
    "                               evaluator=evaluator,\n",
    "                               numFolds=3)\n",
    "    fitted_lr_pipe_1 = lr_pipe_1.fit(train)\n",
    "    print(evaluator.evaluate(fitted_lr_pipe_1.bestModel.transform(test), {evaluator.metricName: \"areaUnderROC\"}))"
   ]
  },
  {
   "cell_type": "markdown",
   "metadata": {},
   "source": [
    "##### Grading feedback cell"
   ]
  },
  {
   "cell_type": "markdown",
   "metadata": {},
   "source": [
    "# Question 6b (5 pts)\n",
    "Build a new pipeline named `lr_pipe_2` which uses the optimized model parameters from the grid search in question 6a above (the best model).  Create 2 variables named alpha and lambda and assign to them the best alpha and lambda produced by the grid search by hard coding the values. Fit and transform lr_pipe_2.  Compare AUC scores between lr_pipe_2 with lr_pipe in question 4.  Create a pandas dataframe named `comapre_1_df` which encapsulates the comparison data.  comapre_1_df Shall have 2 columns: `model_name` and `auc_score`."
   ]
  },
  {
   "cell_type": "code",
   "execution_count": 12,
   "metadata": {},
   "outputs": [],
   "source": [
    "# your optimized model code here\n",
    "# example\n",
    "lr_alpha = 0.1\n",
    "lr_lambda = 0.01\n",
    "\n",
    "# lr_pipe_2 code here\n",
    "lr_2 = LogisticRegression().setLabelCol('target').setFeaturesCol('tfidf').setRegParam(lr_lambda).setElasticNetParam(lr_alpha)\n",
    "lr_pipe_2 = Pipeline(stages=[tweets_pre_proc_pipe, lr_2])\n",
    "# fit and transform lr_pipe_2\n",
    "lr_pipe_2_result = lr_pipe_2.fit(train).transform(test)\n",
    "auroc2 = evaluator.evaluate(lr_pipe_2_result, {evaluator.metricName: \"areaUnderROC\"})\n",
    "\n",
    "model_name = ['lr_pipe', 'lr_pipe_2']\n",
    "auc_scores = [auroc, auroc2]\n",
    "comapre_1_df = pd.DataFrame({'model_name': model_name, 'auc_score': auc_scores})"
   ]
  },
  {
   "cell_type": "code",
   "execution_count": 13,
   "metadata": {},
   "outputs": [
    {
     "data": {
      "text/html": [
       "<div>\n",
       "<style scoped>\n",
       "    .dataframe tbody tr th:only-of-type {\n",
       "        vertical-align: middle;\n",
       "    }\n",
       "\n",
       "    .dataframe tbody tr th {\n",
       "        vertical-align: top;\n",
       "    }\n",
       "\n",
       "    .dataframe thead th {\n",
       "        text-align: right;\n",
       "    }\n",
       "</style>\n",
       "<table border=\"1\" class=\"dataframe\">\n",
       "  <thead>\n",
       "    <tr style=\"text-align: right;\">\n",
       "      <th></th>\n",
       "      <th>model_name</th>\n",
       "      <th>auc_score</th>\n",
       "    </tr>\n",
       "  </thead>\n",
       "  <tbody>\n",
       "    <tr>\n",
       "      <th>0</th>\n",
       "      <td>lr_pipe</td>\n",
       "      <td>0.714612</td>\n",
       "    </tr>\n",
       "    <tr>\n",
       "      <th>1</th>\n",
       "      <td>lr_pipe_2</td>\n",
       "      <td>0.822490</td>\n",
       "    </tr>\n",
       "  </tbody>\n",
       "</table>\n",
       "</div>"
      ],
      "text/plain": [
       "  model_name  auc_score\n",
       "0    lr_pipe   0.714612\n",
       "1  lr_pipe_2   0.822490"
      ]
     },
     "metadata": {},
     "output_type": "display_data"
    }
   ],
   "source": [
    "# grading cell - do not modify\n",
    "display(comapre_1_df)"
   ]
  },
  {
   "cell_type": "markdown",
   "metadata": {},
   "source": [
    "##### Grading Feedback Cell"
   ]
  },
  {
   "cell_type": "markdown",
   "metadata": {},
   "source": [
    "# Question 7 (10 pts)\n",
    "Perform inference on lr_pipe_2.  Write code to report how many words were eliminated from the best model in question 6b above (if any) as compared to the model in question 4 above.  Make sure your output is easy for the graders to find and interpret."
   ]
  },
  {
   "cell_type": "code",
   "execution_count": 15,
   "metadata": {},
   "outputs": [
    {
     "name": "stdout",
     "output_type": "stream",
     "text": [
      "number of eliminated features: 0\n"
     ]
    }
   ],
   "source": [
    "# your code here\n",
    "# given that we have already assign the best parameter to the lr_2 logistic regression object, \n",
    "# we can use the lr_pipe_2 as the best model\n",
    "fitted_lr_pipe_2 = lr_pipe_2.fit(train)\n",
    "\n",
    "diff = fitted_lr_pipe.stages[-1].numFeatures - fitted_lr_pipe_2.stages[-1].numFeatures\n",
    "print(\"number of eliminated features:\", diff)"
   ]
  },
  {
   "cell_type": "markdown",
   "metadata": {},
   "source": [
    "##### Grading Feedback Cell"
   ]
  },
  {
   "cell_type": "markdown",
   "metadata": {},
   "source": [
    "# Question 8 (10 pts)\n",
    "Perform the same inference analysis that you did in question 5 but name the data frames `lr_pipe_df_neg_1` and `lr_pipe_df_pos_1`.  Compare the word importance results with the results in question 5."
   ]
  },
  {
   "cell_type": "code",
   "execution_count": 16,
   "metadata": {},
   "outputs": [],
   "source": [
    "# your code here\n",
    "vocabulary_2 = fitted_lr_pipe_2.stages[0].stages[-2].vocabulary\n",
    "score_2 = fitted_lr_pipe_2.stages[-1].coefficients.toArray()\n",
    "\n",
    "lr_pipe_df_2 = pd.DataFrame({'word': vocabulary_2, 'score': score_2}).sort_values('score', ascending = False)\n",
    "lr_pipe_df_pos_1 = lr_pipe_df_2[:10]\n",
    "lr_pipe_df_neg_1 = lr_pipe_df_2[-10:]"
   ]
  },
  {
   "cell_type": "code",
   "execution_count": 17,
   "metadata": {},
   "outputs": [
    {
     "data": {
      "text/html": [
       "<div>\n",
       "<style scoped>\n",
       "    .dataframe tbody tr th:only-of-type {\n",
       "        vertical-align: middle;\n",
       "    }\n",
       "\n",
       "    .dataframe tbody tr th {\n",
       "        vertical-align: top;\n",
       "    }\n",
       "\n",
       "    .dataframe thead th {\n",
       "        text-align: right;\n",
       "    }\n",
       "</style>\n",
       "<table border=\"1\" class=\"dataframe\">\n",
       "  <thead>\n",
       "    <tr style=\"text-align: right;\">\n",
       "      <th></th>\n",
       "      <th>word</th>\n",
       "      <th>score</th>\n",
       "    </tr>\n",
       "  </thead>\n",
       "  <tbody>\n",
       "    <tr>\n",
       "      <th>156</th>\n",
       "      <td>poor</td>\n",
       "      <td>-0.464324</td>\n",
       "    </tr>\n",
       "    <tr>\n",
       "      <th>832</th>\n",
       "      <td>sadly</td>\n",
       "      <td>-0.467897</td>\n",
       "    </tr>\n",
       "    <tr>\n",
       "      <th>37</th>\n",
       "      <td>wish</td>\n",
       "      <td>-0.478714</td>\n",
       "    </tr>\n",
       "    <tr>\n",
       "      <th>171</th>\n",
       "      <td>missing</td>\n",
       "      <td>-0.479152</td>\n",
       "    </tr>\n",
       "    <tr>\n",
       "      <th>83699</th>\n",
       "      <td>@theu4life219</td>\n",
       "      <td>-0.483204</td>\n",
       "    </tr>\n",
       "    <tr>\n",
       "      <th>63639</th>\n",
       "      <td>@billipipers</td>\n",
       "      <td>-0.520261</td>\n",
       "    </tr>\n",
       "    <tr>\n",
       "      <th>57593</th>\n",
       "      <td>@stigblog</td>\n",
       "      <td>-0.548671</td>\n",
       "    </tr>\n",
       "    <tr>\n",
       "      <th>34</th>\n",
       "      <td>miss</td>\n",
       "      <td>-0.562012</td>\n",
       "    </tr>\n",
       "    <tr>\n",
       "      <th>55</th>\n",
       "      <td>sad</td>\n",
       "      <td>-0.618670</td>\n",
       "    </tr>\n",
       "    <tr>\n",
       "      <th>51739</th>\n",
       "      <td>me,but</td>\n",
       "      <td>-0.648742</td>\n",
       "    </tr>\n",
       "  </tbody>\n",
       "</table>\n",
       "</div>"
      ],
      "text/plain": [
       "                word     score\n",
       "156             poor -0.464324\n",
       "832            sadly -0.467897\n",
       "37              wish -0.478714\n",
       "171          missing -0.479152\n",
       "83699  @theu4life219 -0.483204\n",
       "63639   @billipipers -0.520261\n",
       "57593      @stigblog -0.548671\n",
       "34              miss -0.562012\n",
       "55               sad -0.618670\n",
       "51739         me,but -0.648742"
      ]
     },
     "metadata": {},
     "output_type": "display_data"
    },
    {
     "data": {
      "text/html": [
       "<div>\n",
       "<style scoped>\n",
       "    .dataframe tbody tr th:only-of-type {\n",
       "        vertical-align: middle;\n",
       "    }\n",
       "\n",
       "    .dataframe tbody tr th {\n",
       "        vertical-align: top;\n",
       "    }\n",
       "\n",
       "    .dataframe thead th {\n",
       "        text-align: right;\n",
       "    }\n",
       "</style>\n",
       "<table border=\"1\" class=\"dataframe\">\n",
       "  <thead>\n",
       "    <tr style=\"text-align: right;\">\n",
       "      <th></th>\n",
       "      <th>word</th>\n",
       "      <th>score</th>\n",
       "    </tr>\n",
       "  </thead>\n",
       "  <tbody>\n",
       "    <tr>\n",
       "      <th>53856</th>\n",
       "      <td>sstill</td>\n",
       "      <td>1.084409</td>\n",
       "    </tr>\n",
       "    <tr>\n",
       "      <th>108428</th>\n",
       "      <td>front!</td>\n",
       "      <td>0.721063</td>\n",
       "    </tr>\n",
       "    <tr>\n",
       "      <th>57451</th>\n",
       "      <td>soar.</td>\n",
       "      <td>0.663046</td>\n",
       "    </tr>\n",
       "    <tr>\n",
       "      <th>55594</th>\n",
       "      <td>probbaly</td>\n",
       "      <td>0.584322</td>\n",
       "    </tr>\n",
       "    <tr>\n",
       "      <th>33966</th>\n",
       "      <td>specialist,</td>\n",
       "      <td>0.574190</td>\n",
       "    </tr>\n",
       "    <tr>\n",
       "      <th>87901</th>\n",
       "      <td>gurpreet</td>\n",
       "      <td>0.566776</td>\n",
       "    </tr>\n",
       "    <tr>\n",
       "      <th>99143</th>\n",
       "      <td>michiganders</td>\n",
       "      <td>0.566021</td>\n",
       "    </tr>\n",
       "    <tr>\n",
       "      <th>91358</th>\n",
       "      <td>this!!!!</td>\n",
       "      <td>0.548309</td>\n",
       "    </tr>\n",
       "    <tr>\n",
       "      <th>29655</th>\n",
       "      <td>usa...</td>\n",
       "      <td>0.540402</td>\n",
       "    </tr>\n",
       "    <tr>\n",
       "      <th>101035</th>\n",
       "      <td>@jakular</td>\n",
       "      <td>0.539177</td>\n",
       "    </tr>\n",
       "  </tbody>\n",
       "</table>\n",
       "</div>"
      ],
      "text/plain": [
       "                word     score\n",
       "53856         sstill  1.084409\n",
       "108428        front!  0.721063\n",
       "57451          soar.  0.663046\n",
       "55594       probbaly  0.584322\n",
       "33966    specialist,  0.574190\n",
       "87901       gurpreet  0.566776\n",
       "99143   michiganders  0.566021\n",
       "91358       this!!!!  0.548309\n",
       "29655         usa...  0.540402\n",
       "101035      @jakular  0.539177"
      ]
     },
     "metadata": {},
     "output_type": "display_data"
    }
   ],
   "source": [
    "# grading cell - do not modify\n",
    "display(lr_pipe_df_neg_1)\n",
    "display(lr_pipe_df_pos_1)"
   ]
  },
  {
   "cell_type": "markdown",
   "metadata": {},
   "source": [
    "##### Grading Feedback Cell"
   ]
  },
  {
   "cell_type": "markdown",
   "metadata": {},
   "source": [
    "Your explanation here:<br>\n",
    "Some of the top 10 negative words are more informative than those negative words obtained above, such as sad, poor, and sorry. However, the majority of the top 10 positive words, still, don't make sense. On some rare occasions, words like \"..good\" will also appear in the positive dataframe."
   ]
  },
  {
   "cell_type": "markdown",
   "metadata": {},
   "source": [
    "##### Grading Feedback Cell"
   ]
  },
  {
   "cell_type": "markdown",
   "metadata": {},
   "source": [
    "# Question 9 (10 pts)\n",
    "Create a receiver operating characteristic (ROC) plot for the best model in question 6.  Briefly describe in words the high level steps needed to build a ROC curve as outlined in lecture.  Convince me you understand the high level steps needed to make a ROC curve."
   ]
  },
  {
   "cell_type": "code",
   "execution_count": 18,
   "metadata": {
    "scrolled": false
   },
   "outputs": [
    {
     "data": {
      "image/png": "[encoded data removed]",
      "text/plain": [
       "<Figure size 360x360 with 1 Axes>"
      ]
     },
     "metadata": {
      "needs_background": "light"
     },
     "output_type": "display_data"
    }
   ],
   "source": [
    "# your code here\n",
    "import matplotlib.pyplot as plt\n",
    "\n",
    "# To get the FPR and TPR\n",
    "FPR = fitted_lr_pipe_2.stages[-1].summary.roc.select('FPR').collect()\n",
    "TPR = fitted_lr_pipe_2.stages[-1].summary.roc.select('TPR').collect()\n",
    "\n",
    "# Using those two variables to draw a plot\n",
    "%matplotlib inline\n",
    "plt.figure(figsize=(5,5))\n",
    "plt.plot([0, 1], [0, 1], 'r--')\n",
    "plt.plot(FPR, TPR)\n",
    "plt.title(\"ROC scatter plot\")\n",
    "plt.xlabel('False Positive Rate')\n",
    "plt.ylabel('True Positive Rate')\n",
    "plt.show()"
   ]
  },
  {
   "cell_type": "code",
   "execution_count": 20,
   "metadata": {
    "scrolled": false
   },
   "outputs": [
    {
     "name": "stdout",
     "output_type": "stream",
     "text": [
      "The ROC curve is 0.8224976212306587\n"
     ]
    },
    {
     "data": {
      "image/png": "[encoded data removed]",
      "text/plain": [
       "<Figure size 360x360 with 1 Axes>"
      ]
     },
     "metadata": {
      "needs_background": "light"
     },
     "output_type": "display_data"
    }
   ],
   "source": [
    "# extra credit for question 9\n",
    "from sklearn.metrics import roc_curve, roc_auc_score\n",
    "\n",
    "prediction = fitted_lr_pipe_2.transform(test).select('target','probability').rdd.map(lambda row: (float(row['probability'][1]), float(row['target']))).collect()\n",
    "lr_prob, lr_lable = zip(*prediction)\n",
    "fpr, tpr, threshold = roc_curve(lr_lable, lr_prob)\n",
    "print(\"The ROC curve is\", roc_auc_score(lr_lable, lr_prob))\n",
    "\n",
    "# # Using those two variables to draw a plot\n",
    "%matplotlib inline\n",
    "plt.figure(figsize=(5,5))\n",
    "plt.plot([0, 1], [0, 1], 'r--')\n",
    "plt.plot(fpr, tpr)\n",
    "plt.title(\"ROC scatter plot\")\n",
    "plt.xlabel('False Positive Rate')\n",
    "plt.ylabel('True Positive Rate')\n",
    "plt.show()"
   ]
  },
  {
   "cell_type": "markdown",
   "metadata": {},
   "source": [
    "Your explanation here:<br>\n",
    "ROC curve is a useful tool to predict the probability of a binary outcome. It is a plot which has false positive rate on x-axis and has true positive rate on y-axis for a number of different candidate threshold values between 0 and 1. Specifically, <b> the true positive rate is calculated as the number of true positives divided by the sum of the number of true positives and the number of false negatives </b>. This rate indicates how good the model is at predicting the positive class when the actual outcome is positive. The <b> false positive rate is calculated as the number of false positives divided by the sum of the number of false positives and the number of true negatives </b>. This value summarizes how often a positive class is predicted when the actual outcome is negative. <br>\n",
    "For <b> the first method </b>, one can simply use the logistic regression summary model to get the FPR and TPR values. <br>\n",
    "For <b> the second method </b>, given that we want to get the actual result of the test dataset. We can extract the \"target\" and pridicted \"probability\" from the transformed model. Then, by assigning \"target\" as the actual label and assiging \"probability\" as the pridicted result, one can use the roc_curve function from the sklearn.metrics package  to calculate the FPR and TPR values.\n",
    "After obtaining those two variables, one can use the plot function to generate a line graph."
   ]
  },
  {
   "cell_type": "markdown",
   "metadata": {},
   "source": [
    "##### Grading Feedback Cell"
   ]
  },
  {
   "cell_type": "markdown",
   "metadata": {},
   "source": [
    "# Question 10 (10 pts)\n",
    "Learn about [precision/recall](https://en.wikipedia.org/wiki/Precision_and_recall) curves. Using the logistic regression summary object contained in the linear regression object within lr_pipe_2, create a precision recall plot. Similar to the `roc` object which is available in the logistic regression summary, there is a `pr` object which can be used to help create a precision / recall curve.  Note that the precision recall curve is built using the same high level methodology as the ROC curve, but using different metrics calculated from the confusion matrix.  If you understand how a ROC curve is built, you understand how a precision / recall curve is built.  Compare and contrast the differences between precision / recall and ROC curves.  What axis is common and what axis is different between the 2 curves?"
   ]
  },
  {
   "cell_type": "code",
   "execution_count": 29,
   "metadata": {
    "scrolled": false
   },
   "outputs": [
    {
     "data": {
      "image/png": "[encoded data removed]",
      "text/plain": [
       "<Figure size 360x360 with 1 Axes>"
      ]
     },
     "metadata": {
      "needs_background": "light"
     },
     "output_type": "display_data"
    }
   ],
   "source": [
    "# your code here\n",
    "recall = fitted_lr_pipe_2.stages[-1].summary.pr.select(\"recall\").collect()\n",
    "precision = fitted_lr_pipe_2.stages[-1].summary.pr.select(\"precision\").collect()\n",
    "\n",
    "%matplotlib inline\n",
    "plt.figure(figsize=(5,5))\n",
    "plt.plot([0, 1], [1, 0.5], 'r--')\n",
    "plt.plot(recall, precision)\n",
    "plt.title(\"Precision-Recall Scatter Plot\")\n",
    "plt.xlabel('Recall')\n",
    "plt.ylabel('Precision')\n",
    "display()"
   ]
  },
  {
   "cell_type": "code",
   "execution_count": 32,
   "metadata": {},
   "outputs": [
    {
     "name": "stdout",
     "output_type": "stream",
     "text": [
      "The auc of PR is 0.8087547304963955\n"
     ]
    },
    {
     "data": {
      "image/png": "[encoded data removed]",
      "text/plain": [
       "<Figure size 360x360 with 1 Axes>"
      ]
     },
     "metadata": {
      "needs_background": "light"
     },
     "output_type": "display_data"
    }
   ],
   "source": [
    "# extra credit for question 10\n",
    "from sklearn.metrics import precision_recall_curve, auc\n",
    "\n",
    "prediction = fitted_lr_pipe_2.transform(test).select('target','probability').rdd.map(lambda row: (float(row['probability'][1]), float(row['target']))).collect()\n",
    "lr_probs, lr_lables = zip(*prediction)\n",
    "lr_precision, lr_recall, _ = precision_recall_curve(lr_lables, lr_probs)\n",
    "print(\"The auc of PR is\", auc(lr_recall, lr_precision))\n",
    "\n",
    "# # Using those two variables to draw a plot\n",
    "%matplotlib inline\n",
    "plt.figure(figsize=(5,5))\n",
    "plt.plot(lr_recall, lr_precision)\n",
    "plt.title(\"Precision-Recall Scatter Plot\")\n",
    "plt.xlabel('Recall')\n",
    "plt.ylabel('Precision')\n",
    "plt.show()"
   ]
  },
  {
   "cell_type": "markdown",
   "metadata": {},
   "source": [
    "Your explanation here: <br>\n",
    "Similar to ROC plot, Precision-Recall plot is another graphing tool which can be used to evaluate the performance of model. A precision-recall curve is a plot of the precision (y-axis) and the recall (x-axis) for different thresholds. <br>\n",
    "<b> Precision is a ratio of the number of true positives divided by the sum of the true positives and false positives </b>. It describes how good a model is at predicting the positive class. Precision is referred to as the positive predictive value. <b> Recall is calculated as the ratio of the number of true positives divided by the sum of the true positives and the false negatives </b>. Recall is the same as the true positive rate.\n",
    "<br>\n",
    "For <b> the first method </b>, one can simply use the logistic regression summary model to get the precision and recall values. <br>\n",
    "For <b> the second method </b>, we can extract the \"target\" and pridicted \"probability\" from the transformed model. Then, by assigning \"target\" as the actual label and assiging \"probability\" as the pridicted result, one can use the precision_recall_curve function from the sklearn.metrics package to calculate the precision and recall values."
   ]
  },
  {
   "cell_type": "markdown",
   "metadata": {},
   "source": [
    "##### Grading Feedback Cell"
   ]
  }
 ],
 "metadata": {
  "kernelspec": {
   "display_name": "Python 3",
   "language": "python",
   "name": "python3"
  },
  "language_info": {
   "codemirror_mode": {
    "name": "ipython",
    "version": 3
   },
   "file_extension": ".py",
   "mimetype": "text/x-python",
   "name": "python",
   "nbconvert_exporter": "python",
   "pygments_lexer": "ipython3",
   "version": "3.7.3"
  }
 },
 "nbformat": 4,
 "nbformat_minor": 4
}
